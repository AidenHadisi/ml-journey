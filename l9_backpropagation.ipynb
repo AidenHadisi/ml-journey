{
 "cells": [
  {
   "cell_type": "markdown",
   "id": "344ab35b-4480-460d-a064-342e8cd56143",
   "metadata": {},
   "source": [
    "# Backpropagation & Computation Graphs\n",
    "\n",
    "## Derivatives: Intuition and Calculation\n",
    "\n",
    "Imagine a simple cost function:  \n",
    "\n",
    "$$\n",
    "J(w) = w^2.\n",
    "$$\n",
    "\n",
    "At $w=3$, we have $J(3)=9$. If we increase $w$ by a small amount $\\epsilon$ (for example, $\\epsilon=0.001$), then $w$ becomes $3.001$, and  \n",
    "\n",
    "$$\n",
    "J(3.001) \\approx 9.006001.\n",
    "$$\n",
    "\n",
    "The change in $J$ is roughly $0.006001$, which is about $6\\epsilon$. This tells us that for a tiny change in $w$, the cost changes by approximately  \n",
    "\n",
    "$$\n",
    "\\frac{dJ}{dw} \\approx 6,\n",
    "$$\n",
    "\n",
    "when $w=3$. More generally, by calculus we know:  \n",
    "\n",
    "$$\n",
    "\\frac{dJ}{dw} = 2w.\n",
    "$$\n",
    "\n",
    "Thus, when $w=2$, $\\frac{dJ}{dw}=4$, and when $w=-3$, $\\frac{dJ}{dw}=-6$. The derivative tells us how sensitive $J$ is to changes in $w$, much like a hill's slope indicates how steep it is."
   ]
  },
  {
   "cell_type": "code",
   "execution_count": 1,
   "id": "d58fcfea-bc9f-4ad3-b593-a6f1a9601099",
   "metadata": {},
   "outputs": [
    {
     "name": "stdout",
     "output_type": "stream",
     "text": [
      "dJ_dw=2*w\n",
      "dJ_dw(3) = 6\n",
      "dJ_dw(2) = 4\n",
      "dJ_dw(-3) = -6\n"
     ]
    }
   ],
   "source": [
    "import sympy\n",
    "\n",
    "J, w = sympy.symbols(\"J,w\")\n",
    "J = w ** 2\n",
    "dJ_dw = sympy.diff(J, w)\n",
    "\n",
    "print(f\"{dJ_dw=}\")\n",
    "print(f\"dJ_dw(3) = {dJ_dw.subs([(w, 3)])}\")\n",
    "print(f\"dJ_dw(2) = {dJ_dw.subs([(w, 2)])}\")\n",
    "print(f\"dJ_dw(-3) = {dJ_dw.subs([(w, -3)])}\")"
   ]
  },
  {
   "cell_type": "markdown",
   "id": "7e327aa5-47e1-417c-9cf4-9974bb27747f",
   "metadata": {},
   "source": [
    "## The Computation Graph Concept\n",
    "\n",
    "A computation graph represents the sequence of operations in a neural network. Instead of writing one long equation, the network’s operations are broken into smaller, manageable steps. Consider a simple network defined by:  \n",
    "\n",
    "$$\n",
    "a = wx + b,\n",
    "$$\n",
    "\n",
    "with a cost function:  \n",
    "\n",
    "$$\n",
    "J = \\frac{1}{2}(a - y)^2.\n",
    "$$\n",
    "\n",
    "We can break this computation into these steps:\n",
    "- **Step 1:** Compute an intermediate value $c = w \\times x$.\n",
    "- **Step 2:** Compute the output $a = c + b$.\n",
    "- **Step 3:** Compute the error $d = a - y$.\n",
    "- **Step 4:** Compute the cost $J = \\frac{1}{2}d^2$.\n",
    "\n",
    "During **forward propagation**, we calculate these steps from input to output. In **backpropagation**, we reverse the process, starting from the cost $J$ and working backwards. At each node, we use the chain rule to determine how a small change in that node affects $J$. For instance, a change in $d$ affects $J$ by  \n",
    "\n",
    "$$\n",
    "\\frac{\\partial J}{\\partial d} = d \\quad \\text{(or, more precisely, $d$ times a constant factor depending on the cost function)}.\n",
    "$$\n",
    "\n",
    "This information is then used to compute the gradient with respect to earlier variables, eventually yielding the gradients with respect to $w$ and $b$.\n",
    "\n",
    "---\n",
    "\n",
    "## A Larger Neural Network Example\n",
    "\n",
    "Consider a neural network with one hidden layer. Suppose we have:\n",
    "\n",
    "Input $x = 1$ and target $y = 5$.\n",
    "\n",
    "Hidden layer computation:  \n",
    "\n",
    "$$z_1 = w_1 \\cdot x + b_1,\\quad a_1 = g(z_1),$$  \n",
    "  \n",
    "- where $g(z)$ is the ReLU activation $g(z)=\\max(0,z)$. If $w_1=2$ and $b_1=0$, then $z_1=2$ and $a_1=2$.\n",
    "\n",
    "Output layer computation:  \n",
    "\n",
    "$$z_2 = w_2 \\cdot a_1 + b_2,\\quad a_2 = g(z_2).$$  \n",
    "  \n",
    "- If $w_2=3$ and $b_2=1$, then $z_2=7$ and $a_2=7$.\n",
    "\n",
    "Cost calculation:  \n",
    "\n",
    "$$J = \\frac{1}{2}(a_2 - y)^2 = \\frac{1}{2}(7-5)^2 = 2.$$\n",
    "\n",
    "The computation graph now includes nodes for:\n",
    "- Multiplying $w_1$ and $x$,\n",
    "- Adding $b_1$ to get $z_1$,\n",
    "- Applying ReLU to obtain $a_1$,\n",
    "- Multiplying $w_2$ and $a_1$,\n",
    "- Adding $b_2$ to get $z_2$,\n",
    "- Applying ReLU to obtain $a_2$, and\n",
    "- Computing the final cost $J$.\n",
    "\n",
    "Backpropagation begins at the cost $J$ and computes gradients at each node using the chain rule. For example, a small increase in $w_1$ will affect $z_1$, then $a_1$, and so on until it changes $J$. By combining these effects, we can calculate $\\frac{\\partial J}{\\partial w_1}$ accurately. A numerical check (increasing $w_1$ by $\\epsilon$ and observing the change in $J$) confirms the calculated gradient.\n",
    "\n",
    "---\n",
    "\n",
    "## Efficiency and Automatic Differentiation\n",
    "\n",
    "Backpropagation is efficient because it reuses intermediate gradient calculations rather than computing them independently for every parameter. In a network with $n$ nodes and $p$ parameters, backpropagation takes roughly $O(n+p)$ steps rather than $O(n \\times p)$, which is essential for large models.\n",
    "\n",
    "Modern frameworks like TensorFlow and PyTorch implement **automatic differentiation (autodiff)**. Autodiff automatically constructs the computation graph and applies backpropagation to compute all the necessary gradients. This automation spares researchers from manually deriving gradients and helps in building complex models more reliably.\n"
   ]
  },
  {
   "cell_type": "markdown",
   "id": "7a5367ce-c35d-4981-98cb-4e6c808e83de",
   "metadata": {},
   "source": [
    "# Detailed Backpropagation Example with the Chain Rule\n",
    "\n",
    "\n",
    "\n",
    "## The Example Network\n",
    "\n",
    "Consider a network with one input, one weight, and one bias. The network computes an output $a$ from an input $x$ as follows:\n",
    "\n",
    "$$\n",
    "a = wx + b.\n",
    "$$\n",
    "\n",
    "The cost function (or loss) is given by:\n",
    "\n",
    "$$\n",
    "J = \\frac{1}{2}(a - y)^2,\n",
    "$$\n",
    "\n",
    "- where $y$ is the true target value.\n",
    "\n",
    "---\n",
    "\n",
    "## Breaking Down the Computation: The Computation Graph\n",
    "\n",
    "We can break the computation into four sequential steps (nodes):\n",
    "\n",
    "1. **Compute the weighted input:**  \n",
    "\n",
    "$$ c = w \\times x $$\n",
    "\n",
    "2. **Add the bias:**  \n",
    "\n",
    "$$ a = c + b $$\n",
    "\n",
    "3. **Compute the error (difference):**  \n",
    "\n",
    "$$ d = a - y $$\n",
    "\n",
    "4. **Compute the cost:**  \n",
    "\n",
    "$$ J = \\frac{1}{2}d^2 $$\n",
    "\n",
    "A simplified diagram of the computation graph is:\n",
    "\n",
    "```\n",
    "   w, x         b, y\n",
    "    |            |\n",
    "    v            |\n",
    "   [*]          (constant y)\n",
    "    |            |\n",
    "    v            |\n",
    "   (c = w*x)  --> (+)  -->  a = c + b  -->  [-]  -->  d = a - y  -->  [Square]  -->  J\n",
    "```\n",
    "\n",
    "---\n",
    "\n",
    "## Applying the Chain Rule in Backpropagation\n",
    "\n",
    "The **chain rule** lets us compute the derivative of a composite function. If a variable $z$ depends on $y$, and $y$ depends on $x$, then:\n",
    "\n",
    "$$\n",
    "\\frac{dz}{dx} = \\frac{dz}{dy} \\cdot \\frac{dy}{dx}.\n",
    "$$\n",
    "\n",
    "Our goal is to compute the gradient $\\frac{\\partial J}{\\partial w}$, i.e., how a small change in $w$ affects the cost $J$.\n",
    "\n",
    "### Step-by-Step Backpropagation\n",
    "\n",
    "**Step 1: From $J$ to $d$**\n",
    "\n",
    "At Node 4, the cost is:\n",
    "\n",
    "$$\n",
    "J = \\frac{1}{2}d^2.\n",
    "$$\n",
    "\n",
    "Differentiate with respect to $d$:\n",
    "\n",
    "$$\n",
    "\\frac{\\partial J}{\\partial d} = d.\n",
    "$$\n",
    "\n",
    "- *Interpretation:* A small change $\\delta d$ in $d$ causes a change in $J$ of approximately $d \\cdot \\delta d$.\n",
    "\n",
    "---\n",
    "\n",
    "**Step 2: From $d$ to $a$**\n",
    "\n",
    "At Node 3, the error is:\n",
    "\n",
    "$$\n",
    "d = a - y.\n",
    "$$\n",
    "\n",
    "Differentiate with respect to $a$:\n",
    "\n",
    "$$\n",
    "\\frac{\\partial d}{\\partial a} = 1.\n",
    "$$\n",
    "\n",
    "By the chain rule:\n",
    "\n",
    "$$\n",
    "\\frac{\\partial J}{\\partial a} = \\frac{\\partial J}{\\partial d} \\cdot \\frac{\\partial d}{\\partial a} = d \\cdot 1 = d.\n",
    "$$\n",
    "\n",
    "- *Interpretation:* Changes in $a$ propagate directly to $d$.\n",
    "\n",
    "---\n",
    "\n",
    "**Step 3: From $a$ to $c$**\n",
    "\n",
    "At Node 2, we have:\n",
    "\n",
    "$$\n",
    "a = c + b.\n",
    "$$\n",
    "\n",
    "Differentiate with respect to $c$:\n",
    "\n",
    "$$\n",
    "\\frac{\\partial a}{\\partial c} = 1.\n",
    "$$\n",
    "\n",
    "So:\n",
    "\n",
    "$$\n",
    "\\frac{\\partial J}{\\partial c} = \\frac{\\partial J}{\\partial a} \\cdot \\frac{\\partial a}{\\partial c} = d \\cdot 1 = d.\n",
    "$$\n",
    "\n",
    "---\n",
    "\n",
    "**Step 4: From $c$ to $w$**\n",
    "\n",
    "At Node 1, $c$ is computed as:\n",
    "\n",
    "$$\n",
    "c = w \\times x.\n",
    "$$\n",
    "\n",
    "Differentiate with respect to $w$:\n",
    "\n",
    "$$\n",
    "\\frac{\\partial c}{\\partial w} = x.\n",
    "$$\n",
    "\n",
    "Finally, by the chain rule:\n",
    "\n",
    "$$\n",
    "\\frac{\\partial J}{\\partial w} = \\frac{\\partial J}{\\partial c} \\cdot \\frac{\\partial c}{\\partial w} = d \\cdot x.\n",
    "$$\n",
    "\n",
    "- *Interpretation:* The sensitivity of $J$ with respect to $w$ is the product of the propagated error $d$ and the input $x$.\n",
    "\n",
    "---\n",
    "\n",
    "**Bonus: Gradient with Respect to $b$**\n",
    "\n",
    "Since $a = c + b$, differentiating with respect to $b$ gives:\n",
    "\n",
    "$$\n",
    "\\frac{\\partial a}{\\partial b} = 1.\n",
    "$$\n",
    "\n",
    "Thus:\n",
    "\n",
    "$$\n",
    "\\frac{\\partial J}{\\partial b} = \\frac{\\partial J}{\\partial a} \\cdot \\frac{\\partial a}{\\partial b} = d \\cdot 1 = d.\n",
    "$$\n",
    "\n",
    "---\n",
    "\n",
    "## Updating Parameters Using Gradients\n",
    "\n",
    "Once we have the gradients, we update the parameters using a method such as gradient descent. For a learning rate $\\alpha$, the update rules are:\n",
    "\n",
    "$$\n",
    "w \\leftarrow w - \\alpha \\frac{\\partial J}{\\partial w} \\quad \\text{and} \\quad b \\leftarrow b - \\alpha \\frac{\\partial J}{\\partial b}.\n",
    "$$\n",
    "\n",
    "---\n",
    "\n",
    "## Recap: The Role of the Chain Rule\n",
    "\n",
    "The chain rule allows us to break a complex derivative into simpler parts. In our example:\n",
    "- We first computed how $J$ changes with $d$.\n",
    "- Then, we saw how changes in $a$ affect $d$, and so on.\n",
    "- Multiplying these derivatives together gave us the gradient with respect to $w$:\n",
    "\n",
    "$$\n",
    "\\frac{\\partial J}{\\partial w} = \\frac{\\partial J}{\\partial d} \\cdot \\frac{\\partial d}{\\partial a} \\cdot \\frac{\\partial a}{\\partial c} \\cdot \\frac{\\partial c}{\\partial w} = d \\cdot 1 \\cdot 1 \\cdot x = d \\cdot x.\n",
    "$$\n",
    "\n",
    "This systematic backtracking through the computation graph is the essence of backpropagation. It enables neural networks to efficiently compute gradients and update parameters during training.\n"
   ]
  },
  {
   "cell_type": "code",
   "execution_count": 2,
   "id": "2e7a71f1-e690-4d22-9ebe-4c210f5b836c",
   "metadata": {},
   "outputs": [
    {
     "data": {
      "text/latex": [
       "$\\displaystyle w x$"
      ],
      "text/plain": [
       "w*x"
      ]
     },
     "execution_count": 2,
     "metadata": {},
     "output_type": "execute_result"
    }
   ],
   "source": [
    "# Forward Prop\n",
    "# Step 1: Calculate weighted inputs:\n",
    "w, x = sympy.symbols(\"w,x\")\n",
    "c = w * x\n",
    "c"
   ]
  },
  {
   "cell_type": "code",
   "execution_count": 3,
   "id": "3dbe158d-21c0-499e-93dc-7f1119f1aa2b",
   "metadata": {},
   "outputs": [
    {
     "data": {
      "text/latex": [
       "$\\displaystyle b + w x$"
      ],
      "text/plain": [
       "b + w*x"
      ]
     },
     "execution_count": 3,
     "metadata": {},
     "output_type": "execute_result"
    }
   ],
   "source": [
    "# Step 2: Add in the bias term:\n",
    "v, b = sympy.symbols(\"c, b\")\n",
    "a = c + b\n",
    "a"
   ]
  },
  {
   "cell_type": "code",
   "execution_count": 4,
   "id": "2226c9c5-5725-442d-87b0-2b003a14e074",
   "metadata": {},
   "outputs": [
    {
     "data": {
      "text/latex": [
       "$\\displaystyle a - y$"
      ],
      "text/plain": [
       "a - y"
      ]
     },
     "execution_count": 4,
     "metadata": {},
     "output_type": "execute_result"
    }
   ],
   "source": [
    "# Step 3: Compute the error\n",
    "a, y = sympy.symbols(\"a, y\")\n",
    "d = a - y\n",
    "d"
   ]
  },
  {
   "cell_type": "code",
   "execution_count": 5,
   "id": "9814a9ce-6588-4ad2-884f-ac8658cdabe0",
   "metadata": {},
   "outputs": [
    {
     "data": {
      "text/latex": [
       "$\\displaystyle \\frac{d^{2}}{2}$"
      ],
      "text/plain": [
       "d**2/2"
      ]
     },
     "execution_count": 5,
     "metadata": {},
     "output_type": "execute_result"
    }
   ],
   "source": [
    "# Step 4: Compute the cost\n",
    "d = sympy.symbols(\"d\")\n",
    "J = (d**2)/2\n",
    "J"
   ]
  },
  {
   "cell_type": "code",
   "execution_count": 6,
   "id": "26d4da9c-6220-4c6d-8ee4-8e3b5defcd92",
   "metadata": {},
   "outputs": [
    {
     "data": {
      "text/latex": [
       "$\\displaystyle d$"
      ],
      "text/plain": [
       "d"
      ]
     },
     "execution_count": 6,
     "metadata": {},
     "output_type": "execute_result"
    }
   ],
   "source": [
    "# Back Prop\n",
    "# Step 1: Calculate dJ_dd\n",
    "J = (d**2)/2\n",
    "dJ_dd = sympy.diff(J, d)\n",
    "dJ_dd"
   ]
  },
  {
   "cell_type": "code",
   "execution_count": 7,
   "id": "6cab0fc0-a3c2-4686-83d8-31c0285272d9",
   "metadata": {},
   "outputs": [
    {
     "data": {
      "text/latex": [
       "$\\displaystyle 1$"
      ],
      "text/plain": [
       "1"
      ]
     },
     "execution_count": 7,
     "metadata": {},
     "output_type": "execute_result"
    }
   ],
   "source": [
    "# Step 2a: Calculate dd_da\n",
    "d = a - y\n",
    "dd_da = sympy.diff(d, a)\n",
    "dd_da"
   ]
  },
  {
   "cell_type": "code",
   "execution_count": 8,
   "id": "4b58b0ff-3f22-421e-b60d-8875e28bd73b",
   "metadata": {},
   "outputs": [
    {
     "data": {
      "text/latex": [
       "$\\displaystyle d$"
      ],
      "text/plain": [
       "d"
      ]
     },
     "execution_count": 8,
     "metadata": {},
     "output_type": "execute_result"
    }
   ],
   "source": [
    "# Step 2b: Calcuate dJ_da by applying the chain rule\n",
    "dJ_da = dJ_dd * dd_da\n",
    "dJ_da"
   ]
  },
  {
   "cell_type": "code",
   "execution_count": 9,
   "id": "2ee7c516-4364-48c5-8083-2bc5acc9a25c",
   "metadata": {},
   "outputs": [
    {
     "data": {
      "text/latex": [
       "$\\displaystyle 1$"
      ],
      "text/plain": [
       "1"
      ]
     },
     "execution_count": 9,
     "metadata": {},
     "output_type": "execute_result"
    }
   ],
   "source": [
    "# Step 3a: Calculate da_dc\n",
    "c = sympy.symbols(\"c\")\n",
    "a = c + b\n",
    "da_dc = sympy.diff(a, c)\n",
    "da_dc"
   ]
  },
  {
   "cell_type": "code",
   "execution_count": 10,
   "id": "d582d74a-1e2d-4c1f-8fb6-967a1076bb07",
   "metadata": {},
   "outputs": [
    {
     "data": {
      "text/latex": [
       "$\\displaystyle d$"
      ],
      "text/plain": [
       "d"
      ]
     },
     "execution_count": 10,
     "metadata": {},
     "output_type": "execute_result"
    }
   ],
   "source": [
    "# Step 3b: Calculate dJ_dc by chain rule\n",
    "dJ_dc = da_dc * dJ_da\n",
    "dJ_dc"
   ]
  },
  {
   "cell_type": "code",
   "execution_count": 11,
   "id": "cb0bcf6b-6827-4a6a-85a8-e98e124a8033",
   "metadata": {},
   "outputs": [
    {
     "data": {
      "text/latex": [
       "$\\displaystyle x$"
      ],
      "text/plain": [
       "x"
      ]
     },
     "execution_count": 11,
     "metadata": {},
     "output_type": "execute_result"
    }
   ],
   "source": [
    "# Step 4a: Calculate dc_dw\n",
    "c = w * x\n",
    "dc_dw = sympy.diff(c, w)\n",
    "dc_dw"
   ]
  },
  {
   "cell_type": "code",
   "execution_count": 12,
   "id": "832741b2-bdda-4c41-88c3-8b7f795fc9e7",
   "metadata": {},
   "outputs": [
    {
     "data": {
      "text/latex": [
       "$\\displaystyle d x$"
      ],
      "text/plain": [
       "d*x"
      ]
     },
     "execution_count": 12,
     "metadata": {},
     "output_type": "execute_result"
    }
   ],
   "source": [
    "# Step 4b: Calculate dJ_dw by chain rule\n",
    "dJ_dw = dJ_dc * dc_dw\n",
    "dJ_dw"
   ]
  }
 ],
 "metadata": {
  "kernelspec": {
   "display_name": "Python 3 (ipykernel)",
   "language": "python",
   "name": "python3"
  },
  "language_info": {
   "codemirror_mode": {
    "name": "ipython",
    "version": 3
   },
   "file_extension": ".py",
   "mimetype": "text/x-python",
   "name": "python",
   "nbconvert_exporter": "python",
   "pygments_lexer": "ipython3",
   "version": "3.12.8"
  }
 },
 "nbformat": 4,
 "nbformat_minor": 5
}
