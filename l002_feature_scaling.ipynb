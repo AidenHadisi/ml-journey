{
 "cells": [
  {
   "cell_type": "markdown",
   "id": "176cbf64-1bd8-4533-b594-6791f1ba4519",
   "metadata": {},
   "source": [
    "# Feature Scaling in Machine Learning\n",
    "\n",
    "## Why Feature Scaling Matters\n",
    "\n",
    "Feature scaling is essential in machine learning because:\n",
    "- Different features often have different units and ranges (e.g., age: 0-100, income: 0-1,000,000)\n",
    "- Many algorithms are sensitive to the magnitude of input features\n",
    "- Unscaled features can lead to:\n",
    "  - Slower convergence in gradient-based algorithms\n",
    "  - Biased importance in distance-based algorithms\n",
    "  - Numerical instability in deep learning models\n",
    "\n",
    "^[Use cases: Linear Regression, Neural Networks, K-Nearest Neighbors, Support Vector Machines]\n",
    "\n",
    "## Scaling Methods Compared\n",
    "\n",
    "### 1. Min-Max Scaling (Normalization)\n",
    "\n",
    "Maps values to a fixed range [0,1]. Best when:\n",
    "- You need a bounded range\n",
    "- Data is not normally distributed\n",
    "- You have outliers you want to preserve\n",
    "\n",
    "$$X_{\\text{norm}} = \\frac{X - X_{\\text{min}}}{X_{\\text{max}} - X_{\\text{min}}}$$\n",
    "\n",
    "**Example:**\n",
    "Scaling student grades (0-100) to percentages:\n",
    "- Raw grade: 85\n",
    "- Min grade: 0\n",
    "- Max grade: 100\n",
    "\n",
    "$$\\text{Normalized grade} = \\frac{85 - 0}{100 - 0} = 0.85$$\n",
    "\n",
    "#### When to Use? \n",
    "- Image processing (pixel values 0-255 → 0-1)\n",
    "- Neural networks with sigmoid activation functions\n",
    "- When you need bounded values\n",
    "\n",
    "### 2. Standardization (Z-score)\n",
    "\n",
    "Centers data around mean=0 with standard deviation=1. Best when:\n",
    "- Data approximately follows normal distribution\n",
    "- Outliers should be dampened\n",
    "- Algorithm assumes normally distributed input\n",
    "\n",
    "$$X_{\\text{std}} = \\frac{X - \\mu}{\\sigma}$$\n",
    "\n",
    "**Example:**\n",
    "Standardizing heights in a class:\n",
    "- Height: 180cm\n",
    "- Mean height: 170cm\n",
    "- Standard deviation: 10cm\n",
    "\n",
    "$$\\text{Standardized height} = \\frac{180 - 170}{10} = 1.0$$\n",
    "\n",
    "This means 180cm is 1 standard deviation above mean.\n",
    "\n",
    "#### When to Use? \n",
    "- Linear regression\n",
    "- Logistic regression\n",
    "- Neural networks\n",
    "- When data follows normal distribution\n",
    "\n",
    "\n",
    "### 3. Mean Normalization\n",
    "\n",
    "Centers data around 0 while considering the range. Best when:\n",
    "- You want centered data but need to preserve scale relative to range\n",
    "- Values should be roughly between -1 and 1\n",
    "\n",
    "$$X_{\\text{norm}} = \\frac{X - \\mu}{X_{\\text{max}} - X_{\\text{min}}}$$\n",
    "\n",
    "#### When to Use? \n",
    "- When you want values centered around zero\n",
    "- When working with features that have different scales but similar ranges\n",
    "\n",
    "\n",
    "## Implementation Tips\n",
    "\n",
    "1. Always fit scaling parameters on training data only\n",
    "2. Apply same scaling to validation/test sets using training parameters\n",
    "3. Handle outliers before scaling if using min-max scaling\n",
    "4. Store scaling parameters for later use in production\n",
    "\n",
    "\n",
    "## When to Use Each Method\n",
    "\n",
    "| Method | Best For | Watch Out For |\n",
    "|--------|----------|---------------|\n",
    "| Min-Max | Neural Networks, algorithms requiring bounded input | Sensitive to outliers |\n",
    "| Standardization | Linear models, SVMs, neural networks | May not preserve zero values |\n",
    "| Mean Normalization | When centered data is needed but range matters | Similar limitations to min-max |\n",
    "\n",
    "## Common Pitfalls to Avoid ⚠️\n",
    "- Scaling target variables unnecessarily\n",
    "- Scaling categorical variables\n",
    "- Forgetting to scale test data with training data parameters\n",
    "- Scaling after splitting data into training/test sets"
   ]
  },
  {
   "cell_type": "code",
   "execution_count": 2,
   "id": "84760156-afc3-4f88-8f81-662877183506",
   "metadata": {},
   "outputs": [
    {
     "name": "stdout",
     "output_type": "stream",
     "text": [
      "[[   2 1000 1990]\n",
      " [   4 2000 2000]\n",
      " [   6 3000 2010]\n",
      " [   8 4000 2020]]\n"
     ]
    }
   ],
   "source": [
    "import numpy as np\n",
    "\n",
    "# Sample data: House prices features\n",
    "data = {\n",
    "    'rooms': [2, 4, 6, 8],\n",
    "    'square_feet': [1000, 2000, 3000, 4000],\n",
    "    'year_built': [1990, 2000, 2010, 2020]\n",
    "}\n",
    "\n",
    "X = np.array(list(data.values())).T\n",
    "print(X)"
   ]
  },
  {
   "cell_type": "code",
   "execution_count": 3,
   "id": "635d35ca",
   "metadata": {},
   "outputs": [
    {
     "name": "stdout",
     "output_type": "stream",
     "text": [
      "rooms: [0.         0.33333333 0.66666667 1.        ]\n",
      "square_feet: [0.         0.33333333 0.66666667 1.        ]\n",
      "year_built: [0.         0.33333333 0.66666667 1.        ]\n"
     ]
    }
   ],
   "source": [
    "# Min-Max scaling\n",
    "from sklearn.preprocessing import MinMaxScaler\n",
    "\n",
    "scaler = MinMaxScaler()\n",
    "X_scaled = scaler.fit_transform(X)\n",
    "for i, feature in enumerate(data.keys()):\n",
    "    print(f'{feature}: {X_scaled[:, i]}')"
   ]
  },
  {
   "cell_type": "code",
   "execution_count": 4,
   "id": "484d808d",
   "metadata": {},
   "outputs": [
    {
     "name": "stdout",
     "output_type": "stream",
     "text": [
      "rooms: [-1.34164079 -0.4472136   0.4472136   1.34164079]\n",
      "square_feet: [-1.34164079 -0.4472136   0.4472136   1.34164079]\n",
      "year_built: [-1.34164079 -0.4472136   0.4472136   1.34164079]\n"
     ]
    }
   ],
   "source": [
    "# Standardization\n",
    "from sklearn.preprocessing import StandardScaler\n",
    "\n",
    "scaler = StandardScaler()\n",
    "X_scaled = scaler.fit_transform(X)\n",
    "for i, feature in enumerate(data.keys()):\n",
    "    print(f'{feature}: {X_scaled[:, i]}')"
   ]
  },
  {
   "cell_type": "code",
   "execution_count": 5,
   "id": "338f64c8-7970-4145-a040-5c198142a67b",
   "metadata": {},
   "outputs": [
    {
     "data": {
      "text/plain": [
       "array([[-0.5       , -0.5       , -0.5       ],\n",
       "       [-0.16666667, -0.16666667, -0.16666667],\n",
       "       [ 0.16666667,  0.16666667,  0.16666667],\n",
       "       [ 0.5       ,  0.5       ,  0.5       ]])"
      ]
     },
     "execution_count": 5,
     "metadata": {},
     "output_type": "execute_result"
    }
   ],
   "source": [
    "# Mean Normalization\n",
    "def mean_normalize(X):\n",
    "    return (X - np.mean(X, axis=0)) / (np.max(X, axis=0) - np.min(X, axis=0))\n",
    "\n",
    "\n",
    "X_mean_normalized = mean_normalize(X)\n",
    "X_mean_normalized"
   ]
  },
  {
   "cell_type": "code",
   "execution_count": 10,
   "id": "32d4cf5d",
   "metadata": {},
   "outputs": [
    {
     "data": {
      "text/plain": [
       "Text(0.5, 1.0, 'Standardized Ages')"
      ]
     },
     "execution_count": 10,
     "metadata": {},
     "output_type": "execute_result"
    },
    {
     "data": {
      "image/png": "[encoded data removed]",
      "text/plain": [
       "<Figure size 1200x400 with 2 Axes>"
      ]
     },
     "metadata": {},
     "output_type": "display_data"
    }
   ],
   "source": [
    "import matplotlib.pyplot as plt\n",
    "\n",
    "# Generate sample ages\n",
    "ages = np.random.normal(35, 10, 1000)  # mean=35, std=10\n",
    "standardized_ages = (ages - np.mean(ages)) / np.std(ages)\n",
    "\n",
    "fig, (ax1, ax2) = plt.subplots(1, 2, figsize=(12, 4))\n",
    "ax1.hist(ages, bins=30)\n",
    "ax1.set_title(\"Original Ages\")\n",
    "ax2.hist(standardized_ages, bins=30)\n",
    "ax2.set_title(\"Standardized Ages\")"
   ]
  }
 ],
 "metadata": {
  "kernelspec": {
   "display_name": "Python 3",
   "language": "python",
   "name": "python3"
  },
  "language_info": {
   "codemirror_mode": {
    "name": "ipython",
    "version": 3
   },
   "file_extension": ".py",
   "mimetype": "text/x-python",
   "name": "python",
   "nbconvert_exporter": "python",
   "pygments_lexer": "ipython3",
   "version": "3.11.5"
  }
 },
 "nbformat": 4,
 "nbformat_minor": 5
}
