{
 "cells": [
  {
   "cell_type": "markdown",
   "id": "202ade74-0e5a-45fc-bdd0-fc5a2b0f67c9",
   "metadata": {},
   "source": [
    "# Neural Networks\n",
    "\n",
    "Neural networks are advanced computational models inspired by the human brain. They can be thought of as sophisticated forms of logistic regression that automatically learn hierarchical features from data—eliminating the need for manual feature engineering. Instead of pre-selecting features, the network learns the best representations during training.\n",
    "\n",
    "**Key Advantages:**\n",
    "- **Automatic Feature Learning:**  \n",
    "  Neural networks discover and extract useful features directly from raw data.  \n",
    "  *Analogy:* Rather than a chef pre-selecting ingredients, the network experiments with combinations until it finds the best recipe for prediction.\n",
    "- **Flexible Architecture:**  \n",
    "  Design choices include the number of hidden layers and neurons per layer, which can be adapted to the problem at hand.\n",
    "\n",
    "---\n",
    "\n",
    "## Network Architecture\n",
    "\n",
    "A typical neural network consists of several layers:\n",
    "\n",
    "- **Input Layer:**  Receives the raw data as a feature vector.\n",
    "- **Hidden Layers:** Intermediate layers where the network extracts increasingly complex features.\n",
    "- **Output Layer:** Produces the final prediction (e.g., a probability or classification label).\n",
    "\n",
    "**Fully Connected Layers:**  \n",
    "    In these layers, each neuron receives input from every neuron in the previous layer, allowing the network to learn which features are most important.\n",
    "    \n",
    "**Activation Functions:**  \n",
    "    Each neuron applies an activation function (such as the sigmoid function) to a linear combination of its inputs. The sigmoid function is defined as:\n",
    "\n",
    "$$\n",
    "\\sigma(z) = \\frac{1}{1 + e^{-z}}\n",
    "$$\n",
    "\n",
    "where $z$ is the weighted sum of inputs plus a bias term.\n",
    "\n",
    "**Illustration of a Neuron:**\n",
    "- **Linear Combination:**  \n",
    "  For an input vector $\\mathbf{x}$, weights $\\mathbf{w}$, and bias $b$, the neuron computes:\n",
    "\n",
    "$$z = \\mathbf{w} \\cdot \\mathbf{x} + b$$\n",
    "\n",
    "- **Activation:**  \n",
    "  The output (or activation) is:\n",
    "\n",
    "$$a = \\sigma(z) = \\frac{1}{1 + e^{-z}}$$\n",
    "\n",
    "---\n",
    "\n",
    "## Examples\n",
    "\n",
    "### T-Shirt Demand Prediction (Single Feature)\n",
    "\n",
    "Suppose we want to predict whether a T-shirt is a top seller based solely on its price.\n",
    "\n",
    "- **Input Feature:** Price, denoted by $x$.\n",
    "- **Neuron Computation:**  \n",
    "  The neuron calculates a weighted sum plus a bias and passes it through the sigmoid activation:\n",
    "\n",
    "$$\n",
    "a = \\sigma(wx + b) = \\frac{1}{1 + e^{-(wx + b)}}\n",
    "$$\n",
    "\n",
    "  Here, $w$ is the weight, $b$ is the bias, and $a$ represents the probability that the T-shirt is a top seller.\n",
    "\n",
    "### Expanded Case (Multiple Features)\n",
    "Now, consider a model that uses several features:\n",
    "- **Input Features:** Price, Shipping Cost, Marketing Spend, Material Quality.\n",
    "- **Key Factors:**\n",
    "  1. **Affordability:** A function of price and shipping cost.\n",
    "  2. **Awareness:** Driven by marketing spend.\n",
    "  3. **Perceived Quality:** Influenced by material quality and price.\n",
    "\n",
    "**Network Structure:**\n",
    "- **Input Layer:**  \n",
    "  The feature vector is:\n",
    "\n",
    "$$\n",
    "\\mathbf{x} = [\\text{Price}, \\text{Shipping Cost}, \\text{Marketing Spend}, \\text{Material Quality}]\n",
    "$$\n",
    "\n",
    "- **Hidden Layer:**  \n",
    "  Contains 3 neurons, each learning one of the key factors (Affordability, Awareness, Perceived Quality).\n",
    "- **Output Layer:**  \n",
    "  A single neuron that combines the hidden layer activations to compute the final probability that the T-shirt is a top seller.\n",
    "\n",
    "**Diagram:**\n",
    "\n",
    "| **Layer**       | **Number of Neurons** | **Role**                                                       |\n",
    "|-----------------|-----------------------|----------------------------------------------------------------|\n",
    "| **Input Layer** | 4                     | Receives raw features.                                         |\n",
    "| **Hidden Layer**| 3                     | Learns intermediate features (Affordability, Awareness, Quality). |\n",
    "| **Output Layer**| 1                     | Outputs the final probability prediction.                      |\n",
    "\n",
    "---\n",
    "\n",
    "### Neural Networks in Computer Vision – Face Recognition\n",
    "\n",
    "Consider training a neural network to recognize a face in an image.\n",
    "\n",
    "- **Image Details:**  \n",
    "  A grayscale image of size $1000 \\times 1000$ pixels. Each pixel has an intensity value from 0 to 255.\n",
    "- **Data Representation:**  \n",
    "  The image is represented as a $1000 \\times 1000$ matrix, which is flattened into a vector:\n",
    "\n",
    "$$\n",
    "\\mathbf{x} \\in \\mathbb{R}^{1\\,000\\,000}\n",
    "$$\n",
    "\n",
    "**Network Architecture for Face Recognition:**\n",
    "- **Input Layer:**  \n",
    "  Receives the flattened pixel intensity vector.\n",
    "- **Hidden Layers:**  \n",
    "  - **First Hidden Layer:** Detects low-level features such as edges (using small image regions).\n",
    "  - **Second Hidden Layer:** Combines edges to form facial parts (like eyes and nose) using larger regions.\n",
    "  - **Third Hidden Layer (optional):** Aggregates parts to recognize complete face shapes.\n",
    "- **Output Layer:**  \n",
    "  Outputs a probability distribution over possible identities (often using a softmax function).\n",
    "\n",
    "| **Layer**         | **Role**                                       | **Learned Features**                                  |\n",
    "|-------------------|------------------------------------------------|-------------------------------------------------------|\n",
    "| **Input Layer**   | Raw pixel intensities                          | N/A                                                   |\n",
    "| **1st Hidden Layer** | Extracts basic features                      | Edges and simple lines                                |\n",
    "| **2nd Hidden Layer** | Combines features into facial parts          | Eyes, nose, and other facial features                |\n",
    "| **3rd Hidden Layer** | Aggregates parts into full face shapes       | Complete facial structure (if used)                   |\n",
    "| **Output Layer**  | Classifies the image into a person’s identity  | Identity probabilities (via softmax)                  |\n",
    "\n",
    "*Tip:* The network learns these features automatically from the training data.\n",
    "\n",
    "---\n",
    "\n",
    "### Handwritten Digit Recognition\n",
    "\n",
    "- **Task:** Classify an $8 \\times 8$ grayscale image as either the digit 0 or 1.\n",
    "- **Input:**  \n",
    "  The image is flattened into a 64-dimensional vector:\n",
    "\n",
    "$$\n",
    "\\mathbf{x} \\in \\mathbb{R}^{64}\n",
    "$$\n",
    "\n",
    "- **Neural Network Architecture:**\n",
    "  - **Input Layer (Layer 0):** 64 features.\n",
    "  - **Hidden Layer 1 (Layer 1):** 25 neurons.\n",
    "  - **Hidden Layer 2 (Layer 2):** 15 neurons.\n",
    "  - **Output Layer (Layer 3):** 1 neuron that outputs a probability for the digit 1.\n",
    "\n",
    "## Forward Propagation Process\n",
    "\n",
    "Forward propagation computes the network output by passing the input through each layer:\n",
    "\n",
    "1. **From Input to First Hidden Layer:**\n",
    "\n",
    "$$\n",
    "\\mathbf{a}^{[1]} = \\sigma\\left(W^{[1]} \\mathbf{x} + b^{[1]}\\right)\n",
    "$$\n",
    "\n",
    "   - $W^{[1]}$ is the weight matrix and $b^{[1]}$ is the bias vector for Layer 1.\n",
    "\n",
    "2. **From First to Second Hidden Layer:**\n",
    "\n",
    "$$\n",
    "\\mathbf{a}^{[2]} = \\sigma\\left(W^{[2]} \\mathbf{a}^{[1]} + b^{[2]}\\right)\n",
    "$$\n",
    "\n",
    "3. **From Second Hidden Layer to Output Layer:**\n",
    "\n",
    "$$\n",
    "a^{[3]} = \\sigma\\left(W^{[3]} \\mathbf{a}^{[2]} + b^{[3]}\\right)\n",
    "$$\n",
    "\n",
    "   - Here, $a^{[3]}$ is a scalar representing the probability that the image is the digit 1.\n",
    "\n",
    "4. **Prediction:**  \n",
    "   A threshold is applied (commonly 0.5) to convert the probability into a binary label:\n",
    "   - If $a^{[3]} \\ge 0.5$, predict **1**.\n",
    "   - Otherwise, predict **0**.\n",
    "\n",
    "**Summary of Forward Propagation:**\n",
    "- **Step 1:** Process input features through the network layer by layer.\n",
    "- **Step 2:** Compute activations using:\n",
    "\n",
    "$$a_j^{[l]} = \\sigma\\left(w_j^{[l]} \\cdot \\mathbf{a}^{[l-1]} + b_j^{[l]}\\right)$$\n",
    "\n",
    "- Where $l$ is the layer number and $j$ is the $j^{th}$ neuron in that layer.\n",
    "    \n",
    "- **Step 3:** Use the final activation to make a prediction.\n",
    "\n",
    "---\n",
    "\n",
    "## Mathematical Computation and Notation\n",
    "\n",
    "Understanding the computation within each layer is crucial. The following sections summarize the mathematical foundations and notation conventions used in neural networks.\n",
    "\n",
    "### Neuron Computation\n",
    "\n",
    "Each neuron performs two key operations:\n",
    "1. **Linear Combination:**\n",
    "\n",
    "$$\n",
    "z = \\mathbf{w} \\cdot \\mathbf{x} + b\n",
    "$$\n",
    "\n",
    "   where:\n",
    "   - $\\mathbf{x}$ is the input vector.\n",
    "   - $\\mathbf{w}$ is the weight vector.\n",
    "   - $b$ is the bias term.\n",
    "2. **Activation:**\n",
    "\n",
    "$$\n",
    "a = \\sigma(z) = \\frac{1}{1 + e^{-z}}\n",
    "$$\n",
    "\n",
    "   The activation function $\\sigma(\\cdot)$ (here, the sigmoid) determines the neuron's output.\n",
    "\n",
    "### Notation Conventions\n",
    "\n",
    "- **Layer Indexing:**  \n",
    "  The input layer is denoted as $\\mathbf{a}^{[0]}$, while subsequent layers are labeled with superscripts in square brackets. For example:\n",
    "  - $\\mathbf{a}^{[1]}$ is the activation vector of the first hidden layer.\n",
    "  - $W^{[l]}$ and $b^{[l]}$ denote the weights and biases for Layer $l$.\n",
    "- **Neuron-Specific Parameters:**  \n",
    "  For the $j^\\text{th}$ neuron in layer $l$, the activation is:\n",
    "\n",
    "$$\n",
    "a_j^{[l]} = \\sigma\\left(w_j^{[l]} \\cdot \\mathbf{a}^{[l-1]} + b_j^{[l]}\\right)\n",
    "$$\n",
    "\n",
    "  where $w_j^{[l]}$ is the weight vector and $b_j^{[l]}$ is the bias for that neuron.\n",
    "\n",
    "### Example Computation in a Hidden Layer\n",
    "\n",
    "Suppose a hidden layer has three neurons. For each neuron $i$:\n",
    "\n",
    "1. **Compute the Linear Combination:**\n",
    "\n",
    "$$\n",
    "z_i^{[1]} = w_i^{[1]} \\cdot \\mathbf{x} + b_i^{[1]}\n",
    "$$\n",
    "\n",
    "2. **Apply the Activation Function:**\n",
    "\n",
    "$$\n",
    "a_i^{[1]} = \\sigma(z_i^{[1]})\n",
    "$$\n",
    "   \n",
    "If the computed activations are:\n",
    "\n",
    "$$\n",
    "a_1^{[1]} \\approx 0.3,\\quad a_2^{[1]} \\approx 0.7,\\quad a_3^{[1]} \\approx 0.2,\n",
    "$$\n",
    "\n",
    "the activation vector for this layer is:\n",
    "\n",
    "$$\n",
    "\\mathbf{a}^{[1]} = \\begin{bmatrix} 0.3 \\\\ 0.7 \\\\ 0.2 \\end{bmatrix}.\n",
    "$$\n",
    "\n",
    "This vector is then used as the input to the next layer.\n"
   ]
  },
  {
   "cell_type": "code",
   "execution_count": 2,
   "id": "5358c460-d672-42ee-bdd2-42a6b8a1085d",
   "metadata": {},
   "outputs": [],
   "source": [
    "import numpy as np\n",
    "import matplotlib.pyplot as plt\n",
    "import tensorflow as tf\n",
    "from tensorflow.keras.layers import Dense, Input\n",
    "from tensorflow.keras import Sequential\n",
    "from tensorflow.keras.losses import MeanSquaredError, BinaryCrossentropy\n",
    "from tensorflow.keras.activations import sigmoid"
   ]
  },
  {
   "cell_type": "code",
   "execution_count": 53,
   "id": "566d316a-e0a8-456f-a564-6322c7a1800b",
   "metadata": {},
   "outputs": [
    {
     "data": {
      "text/plain": [
       "<matplotlib.legend.Legend at 0x17e1abaa0>"
      ]
     },
     "execution_count": 53,
     "metadata": {},
     "output_type": "execute_result"
    },
    {
     "data": {
      "image/png": "[encoded data removed]",
      "text/plain": [
       "<Figure size 1000x600 with 1 Axes>"
      ]
     },
     "metadata": {},
     "output_type": "display_data"
    }
   ],
   "source": [
    "X_train = np.array([[1.0], [2.0]], dtype=np.float32)           #(size in 1000 square feet)\n",
    "y_train = np.array([[300.0], [500.0]], dtype=np.float32)       #(price in 1000s of dollars)\n",
    "\n",
    "\n",
    "fig, ax = plt.subplots(figsize=(10, 6))\n",
    "ax.scatter(X_train, y_train, marker=\"x\", color=\"red\", label=\"Data points\")\n",
    "ax.set(\n",
    "    ylabel=\"price in 1000s of dollars\",\n",
    "    xlabel=\"size in 1000 square feet\"\n",
    ")\n",
    "ax.legend(fontsize='xx-large')"
   ]
  },
  {
   "cell_type": "code",
   "execution_count": 54,
   "id": "628c21e2-d0bc-44d7-b17a-b709f80401f3",
   "metadata": {},
   "outputs": [
    {
     "data": {
      "text/plain": [
       "[]"
      ]
     },
     "execution_count": 54,
     "metadata": {},
     "output_type": "execute_result"
    }
   ],
   "source": [
    "# We can define a layer with one neuron or unit and compare it to the familiar linear regression function.\n",
    "# s a fully-connected (or \"dense\") neural network layer provided by TensorFlow’s Keras API. \n",
    "# In a dense layer, every input unit (or neuron) is connected to every output unit. \n",
    "# This layer is one of the most common building blocks in neural network architectures.\n",
    "linear_layer = Dense(units=1, activation='linear')\n",
    "\n",
    "# Let's examine the weights, currently empty because it is not yet initialized.\n",
    "linear_layer.get_weights() "
   ]
  },
  {
   "cell_type": "code",
   "execution_count": 55,
   "id": "d2f0823f-d1ad-446f-8183-d00e604ae76a",
   "metadata": {},
   "outputs": [
    {
     "name": "stdout",
     "output_type": "stream",
     "text": [
      "tf.Tensor([[-1.2864261]], shape=(1, 1), dtype=float32)\n"
     ]
    }
   ],
   "source": [
    "# Let's try the model on one example in `X_train`. This will trigger the instantiation of the weights. \n",
    "# Note, the input to the layer must be 2-D, so we'll reshape it.\n",
    "a1 = linear_layer(X_train[0].reshape(1,1))\n",
    "\n",
    "# The result is a tensor (another name for an array) with a shape of (1,1) or one entry.   \n",
    "print(a1)"
   ]
  },
  {
   "cell_type": "code",
   "execution_count": 56,
   "id": "811af275-999e-4d43-bb02-6e4f367bdcaf",
   "metadata": {},
   "outputs": [
    {
     "name": "stdout",
     "output_type": "stream",
     "text": [
      "w = [[-1.2864261]], b=[0.]\n"
     ]
    }
   ],
   "source": [
    "# Now let's look at the weights and bias.\n",
    "# These weights are randomly initialized to small numbers and the bias defaults to being initialized to zero.\n",
    "w, b= linear_layer.get_weights()\n",
    "print(f\"w = {w}, b={b}\")"
   ]
  },
  {
   "cell_type": "code",
   "execution_count": 57,
   "id": "e1ff1a9c-ec55-484f-9743-ab255f43574c",
   "metadata": {},
   "outputs": [
    {
     "name": "stdout",
     "output_type": "stream",
     "text": [
      "[array([[200.]], dtype=float32), array([100.], dtype=float32)]\n"
     ]
    }
   ],
   "source": [
    "# The weights are initialized to random values so let's set them to some known values.\n",
    "set_w = np.array([[200]])\n",
    "set_b = np.array([100])\n",
    "\n",
    "# set_weights takes a list of numpy arrays\n",
    "linear_layer.set_weights([set_w, set_b])\n",
    "print(linear_layer.get_weights())"
   ]
  },
  {
   "cell_type": "code",
   "execution_count": 61,
   "id": "698bd489-07e6-4cba-a725-347916c5acbb",
   "metadata": {},
   "outputs": [
    {
     "name": "stdout",
     "output_type": "stream",
     "text": [
      "tf.Tensor(\n",
      "[[300.]\n",
      " [500.]], shape=(2, 1), dtype=float32)\n"
     ]
    }
   ],
   "source": [
    "# Now let's use the model to make predictions\n",
    "prediction = linear_layer(X_train)\n",
    "print(prediction)"
   ]
  },
  {
   "cell_type": "code",
   "execution_count": 67,
   "id": "e35fa379-1714-4c1d-8527-d00dc85d31e8",
   "metadata": {},
   "outputs": [
    {
     "data": {
      "text/plain": [
       "<matplotlib.legend.Legend at 0x17e6aaed0>"
      ]
     },
     "execution_count": 67,
     "metadata": {},
     "output_type": "execute_result"
    },
    {
     "data": {
      "image/png": "[encoded data removed]",
      "text/plain": [
       "<Figure size 640x480 with 1 Axes>"
      ]
     },
     "metadata": {},
     "output_type": "display_data"
    }
   ],
   "source": [
    "# Let's plot the linear prediction\n",
    "\n",
    "plt.scatter(X_train, y_train, c=\"r\", marker=\"x\", label=\"Data Points\")\n",
    "plt.plot(X_train, prediction, label=\"Model Output\", linestyle=\"--\")\n",
    "plt.title(\"Tensorflow prediction\")\n",
    "plt.xlabel(\"Size\")\n",
    "plt.ylabel(\"Price\")\n",
    "plt.legend()\n"
   ]
  },
  {
   "cell_type": "code",
   "execution_count": 68,
   "id": "cc3be77e-2254-460d-a2b8-540cd3519052",
   "metadata": {},
   "outputs": [],
   "source": [
    "# Now let's try with a logistic model:\n",
    "X_train = np.array([0., 1, 2, 3, 4, 5], dtype=np.float32).reshape(-1,1)  # 2-D Matrix\n",
    "y_train = np.array([0,  0, 0, 1, 1, 1], dtype=np.float32).reshape(-1,1)  # 2-D Matrix"
   ]
  },
  {
   "cell_type": "code",
   "execution_count": 77,
   "id": "757fec22-773a-47c2-a5d9-aca81893ed6e",
   "metadata": {},
   "outputs": [
    {
     "data": {
      "image/png": "[encoded data removed]",
      "text/plain": [
       "<Figure size 400x300 with 1 Axes>"
      ]
     },
     "metadata": {},
     "output_type": "display_data"
    }
   ],
   "source": [
    "pos = y_train == 1\n",
    "neg = y_train == 0\n",
    "\n",
    "fig,ax = plt.subplots(1,1,figsize=(4,3))\n",
    "ax.scatter(X_train[pos], y_train[pos], marker='x', s=80, c = 'red', label=\"y=1\")\n",
    "ax.scatter(X_train[neg], y_train[neg], marker='o', s=100, label=\"y=0\", facecolors='none', edgecolors=\"blue\", lw=3)\n",
    "ax.set(ylim=(-0.08,1.1), xlabel=\"x\", ylabel=\"y\", title=\"One variable plot\")\n",
    "ax.legend(fontsize=12)\n",
    "plt.show()"
   ]
  },
  {
   "cell_type": "code",
   "execution_count": 81,
   "id": "d7dc6cc2-4054-4b50-a113-fe63ed82bffc",
   "metadata": {},
   "outputs": [],
   "source": [
    "# We can implement a 'logistic neuron' by adding a sigmoid activation.\n",
    "# Tensorflow is most often used to create multi-layer models. The Sequential model is a convenient means of constructing these models.\n",
    "\n",
    "model = Sequential(\n",
    "    [\n",
    "        Input(shape=(1,)),  # Define the input shape explicitly or pass input_shape to the First Layer\n",
    "        Dense(1, \"sigmoid\", name=\"L1\")\n",
    "    ]\n",
    ")\n",
    "              "
   ]
  },
  {
   "cell_type": "code",
   "execution_count": 83,
   "id": "daf7b942-8eb6-41a5-9bc5-c4b37cdf392c",
   "metadata": {},
   "outputs": [
    {
     "data": {
      "text/html": [
       "<pre style=\"white-space:pre;overflow-x:auto;line-height:normal;font-family:Menlo,'DejaVu Sans Mono',consolas,'Courier New',monospace\"><span style=\"font-weight: bold\">Model: \"sequential_1\"</span>\n",
       "</pre>\n"
      ],
      "text/plain": [
       "\u001b[1mModel: \"sequential_1\"\u001b[0m\n"
      ]
     },
     "metadata": {},
     "output_type": "display_data"
    },
    {
     "data": {
      "text/html": [
       "<pre style=\"white-space:pre;overflow-x:auto;line-height:normal;font-family:Menlo,'DejaVu Sans Mono',consolas,'Courier New',monospace\">┏━━━━━━━━━━━━━━━━━━━━━━━━━━━━━━━━━┳━━━━━━━━━━━━━━━━━━━━━━━━┳━━━━━━━━━━━━━━━┓\n",
       "┃<span style=\"font-weight: bold\"> Layer (type)                    </span>┃<span style=\"font-weight: bold\"> Output Shape           </span>┃<span style=\"font-weight: bold\">       Param # </span>┃\n",
       "┡━━━━━━━━━━━━━━━━━━━━━━━━━━━━━━━━━╇━━━━━━━━━━━━━━━━━━━━━━━━╇━━━━━━━━━━━━━━━┩\n",
       "│ L1 (<span style=\"color: #0087ff; text-decoration-color: #0087ff\">Dense</span>)                      │ (<span style=\"color: #00d7ff; text-decoration-color: #00d7ff\">None</span>, <span style=\"color: #00af00; text-decoration-color: #00af00\">1</span>)              │             <span style=\"color: #00af00; text-decoration-color: #00af00\">2</span> │\n",
       "└─────────────────────────────────┴────────────────────────┴───────────────┘\n",
       "</pre>\n"
      ],
      "text/plain": [
       "┏━━━━━━━━━━━━━━━━━━━━━━━━━━━━━━━━━┳━━━━━━━━━━━━━━━━━━━━━━━━┳━━━━━━━━━━━━━━━┓\n",
       "┃\u001b[1m \u001b[0m\u001b[1mLayer (type)                   \u001b[0m\u001b[1m \u001b[0m┃\u001b[1m \u001b[0m\u001b[1mOutput Shape          \u001b[0m\u001b[1m \u001b[0m┃\u001b[1m \u001b[0m\u001b[1m      Param #\u001b[0m\u001b[1m \u001b[0m┃\n",
       "┡━━━━━━━━━━━━━━━━━━━━━━━━━━━━━━━━━╇━━━━━━━━━━━━━━━━━━━━━━━━╇━━━━━━━━━━━━━━━┩\n",
       "│ L1 (\u001b[38;5;33mDense\u001b[0m)                      │ (\u001b[38;5;45mNone\u001b[0m, \u001b[38;5;34m1\u001b[0m)              │             \u001b[38;5;34m2\u001b[0m │\n",
       "└─────────────────────────────────┴────────────────────────┴───────────────┘\n"
      ]
     },
     "metadata": {},
     "output_type": "display_data"
    },
    {
     "data": {
      "text/html": [
       "<pre style=\"white-space:pre;overflow-x:auto;line-height:normal;font-family:Menlo,'DejaVu Sans Mono',consolas,'Courier New',monospace\"><span style=\"font-weight: bold\"> Total params: </span><span style=\"color: #00af00; text-decoration-color: #00af00\">2</span> (8.00 B)\n",
       "</pre>\n"
      ],
      "text/plain": [
       "\u001b[1m Total params: \u001b[0m\u001b[38;5;34m2\u001b[0m (8.00 B)\n"
      ]
     },
     "metadata": {},
     "output_type": "display_data"
    },
    {
     "data": {
      "text/html": [
       "<pre style=\"white-space:pre;overflow-x:auto;line-height:normal;font-family:Menlo,'DejaVu Sans Mono',consolas,'Courier New',monospace\"><span style=\"font-weight: bold\"> Trainable params: </span><span style=\"color: #00af00; text-decoration-color: #00af00\">2</span> (8.00 B)\n",
       "</pre>\n"
      ],
      "text/plain": [
       "\u001b[1m Trainable params: \u001b[0m\u001b[38;5;34m2\u001b[0m (8.00 B)\n"
      ]
     },
     "metadata": {},
     "output_type": "display_data"
    },
    {
     "data": {
      "text/html": [
       "<pre style=\"white-space:pre;overflow-x:auto;line-height:normal;font-family:Menlo,'DejaVu Sans Mono',consolas,'Courier New',monospace\"><span style=\"font-weight: bold\"> Non-trainable params: </span><span style=\"color: #00af00; text-decoration-color: #00af00\">0</span> (0.00 B)\n",
       "</pre>\n"
      ],
      "text/plain": [
       "\u001b[1m Non-trainable params: \u001b[0m\u001b[38;5;34m0\u001b[0m (0.00 B)\n"
      ]
     },
     "metadata": {},
     "output_type": "display_data"
    }
   ],
   "source": [
    "# `model.summary()` shows the layers and number of parameters in the model. \n",
    "# There is only one layer in this model and that layer has only one unit. The unit has two parameters, $w$ and $b$.\n",
    "model.summary()"
   ]
  },
  {
   "cell_type": "code",
   "execution_count": 84,
   "id": "093ec260-2086-4033-adb4-8513fca14b63",
   "metadata": {},
   "outputs": [
    {
     "name": "stdout",
     "output_type": "stream",
     "text": [
      "[[-1.5984031]] [0.]\n",
      "(1, 1) (1,)\n"
     ]
    }
   ],
   "source": [
    "# Let's get the first layer (that we named L1) and examine the weights\n",
    "logistic_layer = model.get_layer('L1')\n",
    "w,b = logistic_layer.get_weights()\n",
    "print(w,b)\n",
    "print(w.shape,b.shape)"
   ]
  },
  {
   "cell_type": "code",
   "execution_count": 85,
   "id": "c7aad7f7-30d6-4c73-af50-38dcbaacbd3f",
   "metadata": {},
   "outputs": [
    {
     "name": "stdout",
     "output_type": "stream",
     "text": [
      "[array([[2.]], dtype=float32), array([-4.5], dtype=float32)]\n"
     ]
    }
   ],
   "source": [
    "# Let's update the weights for our layer\n",
    "set_w = np.array([[2]])\n",
    "set_b = np.array([-4.5])\n",
    "logistic_layer.set_weights([set_w, set_b])\n",
    "print(logistic_layer.get_weights())"
   ]
  },
  {
   "cell_type": "code",
   "execution_count": 89,
   "id": "885b04f8-8b8b-4489-a53a-7e66d637e722",
   "metadata": {},
   "outputs": [
    {
     "name": "stdout",
     "output_type": "stream",
     "text": [
      "\u001b[1m1/1\u001b[0m \u001b[32m━━━━━━━━━━━━━━━━━━━━\u001b[0m\u001b[37m\u001b[0m \u001b[1m0s\u001b[0m 12ms/step\n"
     ]
    },
    {
     "data": {
      "text/plain": [
       "array([[0.01098694],\n",
       "       [0.07585817],\n",
       "       [0.37754068],\n",
       "       [0.81757444],\n",
       "       [0.97068775],\n",
       "       [0.99592984]], dtype=float32)"
      ]
     },
     "execution_count": 89,
     "metadata": {},
     "output_type": "execute_result"
    }
   ],
   "source": [
    "# Now let's use our model to make a prediction\n",
    "predictions = model.predict(X_train) # Eq to model(X_train)\n",
    "predictions"
   ]
  },
  {
   "cell_type": "code",
   "execution_count": null,
   "id": "f47bc698-3ad4-43d0-b52f-3bdb4c9d7c45",
   "metadata": {},
   "outputs": [],
   "source": []
  }
 ],
 "metadata": {
  "kernelspec": {
   "display_name": "Python 3 (ipykernel)",
   "language": "python",
   "name": "python3"
  },
  "language_info": {
   "codemirror_mode": {
    "name": "ipython",
    "version": 3
   },
   "file_extension": ".py",
   "mimetype": "text/x-python",
   "name": "python",
   "nbconvert_exporter": "python",
   "pygments_lexer": "ipython3",
   "version": "3.12.8"
  }
 },
 "nbformat": 4,
 "nbformat_minor": 5
}
