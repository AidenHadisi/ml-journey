{
 "cells": [
  {
   "cell_type": "markdown",
   "metadata": {},
   "source": [
    "# Logistic Regression\n",
    "\n",
    "## Classification\n",
    "- **Definition:** Predicting a discrete category rather than a continuous value.\n",
    "- **Examples:**\n",
    "  - **Spam detection:** Is an email spam? (**Yes/No**)\n",
    "  - **Fraud detection:** Is a transaction fraudulent? (**Yes/No**)\n",
    "  - **Medical diagnosis:** Is a tumor malignant? (**Yes/No**)\n",
    "\n",
    "\n",
    "### Binary Classification\n",
    "- **Only two possible outcomes:** \n",
    "  - **0 (Negative class)** → Absence of a property  \n",
    "  - **1 (Positive class)** → Presence of a property  \n",
    "\n",
    "\n",
    "### Logistic Regression\n",
    "\n",
    "**Logistic Regression** is one of the most widely used classification algorithms. It is often applied in medical diagnostics, spam detection, and online advertising. Unlike linear regression, logistic regression predicts a probability value and maps it to discrete class labels (0 or 1).  \n",
    "\n",
    "- **Linear regression:** Predicts continuous values.\n",
    "- **Logistic regression:** Predicts probabilities.\n",
    "- **Despite its name, Logistic Regression is used for Classification.**  \n",
    "- **Output:** Probability of the input data belonging to a certain category.\n",
    "\n"
   ]
  },
  {
   "cell_type": "markdown",
   "metadata": {},
   "source": [
    "## Sigmoid Function\n",
    "\n",
    "The **Sigmoid Function** is used in Logistic Regression to map predictions to probabilities. It is an S-shaped curve that maps any real value to the range [0, 1]. The function is defined as:\n",
    "\n",
    "$$\n",
    "\\sigma(z) = \\frac{1}{1 + e^{-z}}\n",
    "$$\n",
    "\n",
    "Where:\n",
    "- $z$ is the input to the function. A linear combination of the input features.\n",
    "- $\\sigma(z)$ is the output, which is the probability of the input data belonging to the positive class.\n",
    "\n",
    "### 📉 Properties of Sigmoid  \n",
    "| **Value of $z$**  | **$\\sigma(z)$ Output** |\n",
    "|--------------------|----------------|\n",
    "| $z \\to +\\infty$  | $\\sigma(z) \\to 1$  |\n",
    "| $z = 0$  | $\\sigma(z) = 0.5$ |\n",
    "| $z \\to -\\infty$  | $\\sigma(z) \\to 0$  |\n",
    "\n",
    "The sigmoid function **compresses** any input $z$ into a probability range of **(0,1)**.\n",
    "\n"
   ]
  },
  {
   "cell_type": "markdown",
   "metadata": {},
   "source": [
    "## Logistic Regression Model\n",
    "\n",
    "The Logistic Regression model follows a 2-step process:\n",
    "1. **Linear Combination:** Compute the linear combination of the input features and weights.\n",
    "\n",
    "$$\n",
    "z = w \\cdot x + b\n",
    "$$\n",
    "\n",
    "\n",
    "\n",
    "2. **Sigmoid Activation:** Apply the sigmoid function to the linear combination to get the probability.\n",
    "\n",
    "$$\n",
    "f(x) = \\sigma(z) = \\frac{1}{1 + e^{-z}}\n",
    "$$\n",
    "\n",
    "Therefore, the Logistic Regression model can be represented as:\n",
    "\n",
    "$$\n",
    "f(x) = \\frac{1}{1 + e^{-(w \\cdot x + b)}}\n",
    "$$\n",
    "\n",
    "Where:\n",
    "- $f(x)$ is the predicted probability of the input data belonging to the positive class.\n",
    "- $w$ is the weight vector.\n",
    "- $x$ is the input feature vector.\n",
    "- $b$ is the bias term.\n",
    "\n",
    "The output of logistic regression, $f(x)$, represents the **probability** of a class label being **1**:  \n",
    "$$\n",
    "P(y = 1 \\mid x) = f(x)\n",
    "$$"
   ]
  }
 ],
 "metadata": {
  "language_info": {
   "name": "python"
  }
 },
 "nbformat": 4,
 "nbformat_minor": 2
}
