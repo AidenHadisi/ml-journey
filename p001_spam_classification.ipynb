{
 "cells": [
  {
   "cell_type": "markdown",
   "id": "f22445df-8508-41a9-b9e8-41525979d35e",
   "metadata": {},
   "source": [
    "# Spam Classification\n",
    "\n",
    "In this project, we aim to classify Short Text Messages (SMS) as **spam** or **not spam**. This is a common text classification problem that has practical applications in filtering unwanted messages.\n",
    "\n",
    "---\n",
    "\n",
    "## Objectives\n",
    "\n",
    "- **Develop a robust classifier:** Explore different machine learning models to determine the most effective one for spam detection.\n",
    "- **Evaluate model performance:** Use cross-validation to assess each model’s accuracy and reliability.\n",
    "- **Deploy the best model:** Select the model with the highest performance for further use.\n",
    "\n",
    "---\n",
    "\n",
    "## Dataset Overview\n",
    "\n",
    "The dataset contains a collection of SMS messages, each accompanied by a label indicating whether the message is spam (`spam`) or not (`ham`). \n",
    "\n",
    "- **Message Text:** The content of the SMS.\n",
    "- **Label:** Indicates whether the message is spam or not.\n",
    "\n",
    "## Methodology\n",
    "\n",
    "1. **Data Exploration & Preprocessing:** \n",
    "   - Inspect the dataset for inconsistencies and missing values.\n",
    "   - Clean and preprocess text data to enhance model performance.\n",
    "\n",
    "2. **Model Training & Evaluation:**\n",
    "   - Train multiple models using the processed dataset.\n",
    "   - Use cross-validation techniques to evaluate each model’s performance.\n",
    "   - Compare metrics such as accuracy, precision, recall, and F1-score.\n",
    "\n",
    "3. **Model Selection:**\n",
    "   - Choose the best-performing model based on cross-validation scores.\n",
    "   - Fine-tune the selected model if necessary.\n"
   ]
  },
  {
   "cell_type": "markdown",
   "id": "5638517a-fb43-4220-8219-da38c39258bb",
   "metadata": {},
   "source": [
    "## Imports\n",
    "\n",
    "First we import all the tools we will need:"
   ]
  },
  {
   "cell_type": "code",
   "execution_count": 1,
   "id": "28f9a5e4-578b-4a01-b8e9-cf771f369e05",
   "metadata": {},
   "outputs": [],
   "source": [
    "import string\n",
    "import matplotlib.pylab as plt\n",
    "import numpy as np\n",
    "import pandas as pd\n",
    "\n",
    "from sklearn.ensemble import RandomForestClassifier\n",
    "from sklearn.feature_extraction.text import TfidfVectorizer\n",
    "from sklearn.linear_model import LogisticRegression\n",
    "from sklearn.metrics import accuracy_score, classification_report\n",
    "from sklearn.model_selection import cross_val_score, GridSearchCV, learning_curve, train_test_split\n",
    "from sklearn.decomposition import TruncatedSVD\n",
    "from sklearn.naive_bayes import MultinomialNB\n",
    "from sklearn.neighbors import KNeighborsClassifier\n",
    "from sklearn.pipeline import Pipeline\n",
    "from sklearn.svm import LinearSVC\n",
    "\n",
    "SEED = 420\n",
    "np.random.seed(SEED)"
   ]
  },
  {
   "cell_type": "markdown",
   "id": "d0064933-2fb1-4767-9475-f2f3defe1ea4",
   "metadata": {},
   "source": [
    "## Read Data Set\n",
    "\n",
    "Let's read the data set into a data frame and checkout 5 random rows to get an idea of what our data looks like:"
   ]
  },
  {
   "cell_type": "code",
   "execution_count": 2,
   "id": "ba9d2f9a-10c0-48fd-8994-5be935c0900e",
   "metadata": {},
   "outputs": [
    {
     "data": {
      "text/html": [
       "<div>\n",
       "<style scoped>\n",
       "    .dataframe tbody tr th:only-of-type {\n",
       "        vertical-align: middle;\n",
       "    }\n",
       "\n",
       "    .dataframe tbody tr th {\n",
       "        vertical-align: top;\n",
       "    }\n",
       "\n",
       "    .dataframe thead th {\n",
       "        text-align: right;\n",
       "    }\n",
       "</style>\n",
       "<table border=\"1\" class=\"dataframe\">\n",
       "  <thead>\n",
       "    <tr style=\"text-align: right;\">\n",
       "      <th></th>\n",
       "      <th>label</th>\n",
       "      <th>message</th>\n",
       "    </tr>\n",
       "  </thead>\n",
       "  <tbody>\n",
       "    <tr>\n",
       "      <th>4821</th>\n",
       "      <td>spam</td>\n",
       "      <td>Check Out Choose Your Babe Videos @ sms.shsex....</td>\n",
       "    </tr>\n",
       "    <tr>\n",
       "      <th>1350</th>\n",
       "      <td>spam</td>\n",
       "      <td>FREE2DAY sexy St George's Day pic of Jordan!Tx...</td>\n",
       "    </tr>\n",
       "    <tr>\n",
       "      <th>1993</th>\n",
       "      <td>spam</td>\n",
       "      <td>Free tones Hope you enjoyed your new content. ...</td>\n",
       "    </tr>\n",
       "    <tr>\n",
       "      <th>1630</th>\n",
       "      <td>ham</td>\n",
       "      <td>Sounds like you have many talents! would you l...</td>\n",
       "    </tr>\n",
       "    <tr>\n",
       "      <th>4656</th>\n",
       "      <td>ham</td>\n",
       "      <td>Our Prasanth ettans mother passed away last ni...</td>\n",
       "    </tr>\n",
       "  </tbody>\n",
       "</table>\n",
       "</div>"
      ],
      "text/plain": [
       "     label                                            message\n",
       "4821  spam  Check Out Choose Your Babe Videos @ sms.shsex....\n",
       "1350  spam  FREE2DAY sexy St George's Day pic of Jordan!Tx...\n",
       "1993  spam  Free tones Hope you enjoyed your new content. ...\n",
       "1630   ham  Sounds like you have many talents! would you l...\n",
       "4656   ham  Our Prasanth ettans mother passed away last ni..."
      ]
     },
     "execution_count": 2,
     "metadata": {},
     "output_type": "execute_result"
    }
   ],
   "source": [
    "df = pd.read_table('data/SMSSpamCollection', header=None, names=['label', 'message'])\n",
    "df.sample(5, random_state=SEED)"
   ]
  },
  {
   "cell_type": "markdown",
   "id": "74ffe2dd-5d91-4761-80b5-d83a2c6e32b5",
   "metadata": {},
   "source": [
    "## Prepare Labels\n",
    "\n",
    "We can see the the `label` column is either `ham` or `spam`. Let's convert the string label column to `1` or `0` to prepare the dataset for a binary classification. \n",
    "- Positive class `1` indicates the message is a spam.\n",
    "- Negative class `0` indicates the message is not spam."
   ]
  },
  {
   "cell_type": "code",
   "execution_count": 3,
   "id": "7c31dde8-7fb4-42da-a3cd-bc3f8408ca44",
   "metadata": {},
   "outputs": [
    {
     "data": {
      "text/html": [
       "<div>\n",
       "<style scoped>\n",
       "    .dataframe tbody tr th:only-of-type {\n",
       "        vertical-align: middle;\n",
       "    }\n",
       "\n",
       "    .dataframe tbody tr th {\n",
       "        vertical-align: top;\n",
       "    }\n",
       "\n",
       "    .dataframe thead th {\n",
       "        text-align: right;\n",
       "    }\n",
       "</style>\n",
       "<table border=\"1\" class=\"dataframe\">\n",
       "  <thead>\n",
       "    <tr style=\"text-align: right;\">\n",
       "      <th></th>\n",
       "      <th>label</th>\n",
       "      <th>message</th>\n",
       "    </tr>\n",
       "  </thead>\n",
       "  <tbody>\n",
       "    <tr>\n",
       "      <th>4821</th>\n",
       "      <td>1</td>\n",
       "      <td>Check Out Choose Your Babe Videos @ sms.shsex....</td>\n",
       "    </tr>\n",
       "    <tr>\n",
       "      <th>1350</th>\n",
       "      <td>1</td>\n",
       "      <td>FREE2DAY sexy St George's Day pic of Jordan!Tx...</td>\n",
       "    </tr>\n",
       "    <tr>\n",
       "      <th>1993</th>\n",
       "      <td>1</td>\n",
       "      <td>Free tones Hope you enjoyed your new content. ...</td>\n",
       "    </tr>\n",
       "    <tr>\n",
       "      <th>1630</th>\n",
       "      <td>0</td>\n",
       "      <td>Sounds like you have many talents! would you l...</td>\n",
       "    </tr>\n",
       "    <tr>\n",
       "      <th>4656</th>\n",
       "      <td>0</td>\n",
       "      <td>Our Prasanth ettans mother passed away last ni...</td>\n",
       "    </tr>\n",
       "  </tbody>\n",
       "</table>\n",
       "</div>"
      ],
      "text/plain": [
       "      label                                            message\n",
       "4821      1  Check Out Choose Your Babe Videos @ sms.shsex....\n",
       "1350      1  FREE2DAY sexy St George's Day pic of Jordan!Tx...\n",
       "1993      1  Free tones Hope you enjoyed your new content. ...\n",
       "1630      0  Sounds like you have many talents! would you l...\n",
       "4656      0  Our Prasanth ettans mother passed away last ni..."
      ]
     },
     "execution_count": 3,
     "metadata": {},
     "output_type": "execute_result"
    }
   ],
   "source": [
    "df[\"label\"] = df[\"label\"].map({\"ham\": 0, \"spam\": 1})\n",
    "df.sample(5, random_state=SEED)"
   ]
  },
  {
   "cell_type": "markdown",
   "id": "04f7bb2e-1222-4298-8294-9ce350ded0a5",
   "metadata": {},
   "source": [
    "## Prepare Messages\n",
    "\n",
    "Let's do some preprocessing on text messages to ensure we remove useless parts such as puncutations or digits as by intuition we know that these are probably not very useful when determing if a message is spam or not.  We also lowercase all the text and remove extra whitespace."
   ]
  },
  {
   "cell_type": "code",
   "execution_count": 4,
   "id": "19f8ffbc-ea8d-4fd8-b86e-e777564fcf17",
   "metadata": {},
   "outputs": [
    {
     "data": {
      "text/html": [
       "<div>\n",
       "<style scoped>\n",
       "    .dataframe tbody tr th:only-of-type {\n",
       "        vertical-align: middle;\n",
       "    }\n",
       "\n",
       "    .dataframe tbody tr th {\n",
       "        vertical-align: top;\n",
       "    }\n",
       "\n",
       "    .dataframe thead th {\n",
       "        text-align: right;\n",
       "    }\n",
       "</style>\n",
       "<table border=\"1\" class=\"dataframe\">\n",
       "  <thead>\n",
       "    <tr style=\"text-align: right;\">\n",
       "      <th></th>\n",
       "      <th>label</th>\n",
       "      <th>message</th>\n",
       "    </tr>\n",
       "  </thead>\n",
       "  <tbody>\n",
       "    <tr>\n",
       "      <th>4821</th>\n",
       "      <td>1</td>\n",
       "      <td>check out choose your babe videos  smsshsexnet...</td>\n",
       "    </tr>\n",
       "    <tr>\n",
       "      <th>1350</th>\n",
       "      <td>1</td>\n",
       "      <td>freeday sexy st georges day pic of jordantxt p...</td>\n",
       "    </tr>\n",
       "    <tr>\n",
       "      <th>1993</th>\n",
       "      <td>1</td>\n",
       "      <td>free tones hope you enjoyed your new content t...</td>\n",
       "    </tr>\n",
       "    <tr>\n",
       "      <th>1630</th>\n",
       "      <td>0</td>\n",
       "      <td>sounds like you have many talents would you li...</td>\n",
       "    </tr>\n",
       "    <tr>\n",
       "      <th>4656</th>\n",
       "      <td>0</td>\n",
       "      <td>our prasanth ettans mother passed away last ni...</td>\n",
       "    </tr>\n",
       "  </tbody>\n",
       "</table>\n",
       "</div>"
      ],
      "text/plain": [
       "      label                                            message\n",
       "4821      1  check out choose your babe videos  smsshsexnet...\n",
       "1350      1  freeday sexy st georges day pic of jordantxt p...\n",
       "1993      1  free tones hope you enjoyed your new content t...\n",
       "1630      0  sounds like you have many talents would you li...\n",
       "4656      0  our prasanth ettans mother passed away last ni..."
      ]
     },
     "execution_count": 4,
     "metadata": {},
     "output_type": "execute_result"
    }
   ],
   "source": [
    "def clean_text(text):\n",
    "    # remove punctuation\n",
    "    text = text.translate(text.maketrans('','', string.punctuation))\n",
    "\n",
    "    # remove digits\n",
    "    text = text.translate(text.maketrans('','', string.digits))\n",
    "\n",
    "    # lowercase\n",
    "    text = text.lower()\n",
    "\n",
    "    # trim\n",
    "    text = text.strip()\n",
    "    \n",
    "    return text\n",
    "\n",
    "df[\"message\"] = df[\"message\"].apply(clean_text)\n",
    "df.sample(5, random_state=SEED)"
   ]
  },
  {
   "cell_type": "markdown",
   "id": "7bf21451-4213-4cd1-9461-ef141f58b60b",
   "metadata": {},
   "source": [
    "## Define Models\n",
    "\n",
    "We are ready to define our models. We will test all the following models to see which one is doing better.\n",
    "\n",
    "\n",
    "| **Model**                         | **Description**                                                                                                                                             | **When It Excels**                                                                                                                                       | **Considerations**                                                                                                                                           |\n",
    "|-----------------------------------|-------------------------------------------------------------------------------------------------------------------------------------------------------------|----------------------------------------------------------------------------------------------------------------------------------------------------------|--------------------------------------------------------------------------------------------------------------------------------------------------------------|\n",
    "| **Logistic Regression**           | A linear model that uses a logistic function to model binary (or multi-class) outcomes.                                                                      | - Linearly separable data<br>- Scenarios where interpretability is important<br>- Low to moderate dimensionality                                           | - May struggle with complex, non-linear relationships<br>- Regularization (L1/L2) is often needed to prevent overfitting                                  |\n",
    "| **Multinomial Naive Bayes**       | A probabilistic classifier based on Bayes’ theorem with the assumption of feature independence, well-suited for discrete count data.                         | - Text classification (e.g., spam detection, document classification)<br>- High-dimensional, sparse data (e.g., word counts)                                | - The independence assumption may be unrealistic for some datasets<br>- Best for count-based features                                                     |\n",
    "| **Random Forest Classifier**      | An ensemble method that builds multiple decision trees using bootstrapped samples and random feature selection to improve prediction accuracy and robustness. | - Capturing complex, non-linear relationships<br>- Situations requiring robust performance and reduced overfitting<br>- Feature importance estimation      | - Can be computationally intensive, especially with many trees<br>- Less interpretable than simpler linear models                                          |\n",
    "| **Linear SVC**                    | A Support Vector Machine variant that finds the optimal linear hyperplane for class separation by maximizing the margin between classes.                     | - High-dimensional datasets (e.g., text data)<br>- Large-scale problems where speed is important<br>- Data with a clear linear margin between classes      | - Not suited for non-linear data unless a kernel is applied (which changes the model)<br>- Requires careful tuning of the regularization parameter (C)      |\n",
    "| **K-Nearest Neighbors (KNN)**     | A non-parametric, instance-based algorithm that classifies new data points based on the majority vote among the 'K' closest examples in the feature space. | - Simple, intuitive classification tasks<br>- Data with complex, non-linear decision boundaries when a proper K and distance metric are chosen<br>- Small datasets | - Prediction time can be slow for large datasets<br>- Sensitive to the choice of K and the distance metric<br>- Performance may degrade in high-dimensional spaces (curse of dimensionality) |\n"
   ]
  },
  {
   "cell_type": "code",
   "execution_count": 5,
   "id": "30419b8d-d99c-4d4c-aa24-7c5e58761bb3",
   "metadata": {},
   "outputs": [],
   "source": [
    "models = [\n",
    "    LogisticRegression(max_iter=1000),\n",
    "    MultinomialNB(),\n",
    "    RandomForestClassifier(random_state=SEED),\n",
    "    LinearSVC(random_state=SEED),\n",
    "    KNeighborsClassifier()\n",
    "]"
   ]
  },
  {
   "cell_type": "markdown",
   "id": "0e06c98a-e8c5-4da4-876d-32342470c298",
   "metadata": {},
   "source": [
    "## Training Models\n",
    "\n",
    "We will use the `cross_val_score` function the run cross validation tests on different models, saving the accuracy score for various models in our `results` array."
   ]
  },
  {
   "cell_type": "code",
   "execution_count": 6,
   "id": "757c6269-a524-40ad-8577-3247497e0bf7",
   "metadata": {},
   "outputs": [],
   "source": [
    "make_pipeline = lambda model: Pipeline([\n",
    "    ('tfidf', TfidfVectorizer(stop_words='english', max_df=0.95)),\n",
    "    ('clf', model)\n",
    "])\n",
    "\n",
    "results = []\n",
    "for model in models:\n",
    "    pipeline = make_pipeline(model)\n",
    "    scores = cross_val_score(pipeline, df[\"message\"], df[\"label\"], scoring=\"accuracy\", cv=5, n_jobs=-1)\n",
    "    results.append(scores)"
   ]
  },
  {
   "cell_type": "markdown",
   "id": "c5a4ee4b-683d-425c-a865-25e897d803d6",
   "metadata": {},
   "source": [
    "## Plot Results\n",
    "\n",
    "Now let's create a plot of the scores to see which model is doing better:"
   ]
  },
  {
   "cell_type": "code",
   "execution_count": 7,
   "id": "b42d198b-3480-4227-9a05-68fa04a8e225",
   "metadata": {},
   "outputs": [
    {
     "data": {
      "image/png": "[encoded data removed]",
      "text/plain": [
       "<Figure size 1200x500 with 1 Axes>"
      ]
     },
     "metadata": {},
     "output_type": "display_data"
    }
   ],
   "source": [
    "plt.figure(figsize=(12, 5));\n",
    "plt.bar([\"LogisticRegression\", \"MultinomialNB\", \"RandomForestClassifier\", \"LinearSVC\", \"KNeighborsClassifier\"] ,np.mean(results, axis=1), color=\"skyblue\")\n",
    "plt.title(\"Model Performance\");\n",
    "plt.ylabel(\"Accuracy\");"
   ]
  },
  {
   "cell_type": "markdown",
   "id": "7423f809-690b-4a01-a74d-3f45a8664833",
   "metadata": {},
   "source": [
    "## Select Best Model\n",
    "\n",
    "Using the plot above, we can see that the `LinearSVC` model is peforming better than others, while `KNeighborsClassifier` is the worst among all the models. So let's select that as our model and check out some additional metrics:"
   ]
  },
  {
   "cell_type": "code",
   "execution_count": 8,
   "id": "cc849320-b9cf-4c80-bd50-bcb9cf3a9c97",
   "metadata": {},
   "outputs": [],
   "source": [
    "X_train, X_test, y_train, y_test = train_test_split(df['message'], df['label'], test_size=0.3)\n",
    "\n",
    "best_estimator = Pipeline([\n",
    "    ('tfidf', TfidfVectorizer(stop_words='english', max_df=0.95)),\n",
    "    ('clf', LinearSVC())\n",
    "])\n",
    "\n",
    "best_estimator.fit(X_train, y_train)\n",
    "y_pred = best_estimator.predict(X_test)"
   ]
  },
  {
   "cell_type": "code",
   "execution_count": 9,
   "id": "fa58fcc4-96d7-49a4-8428-d0c242ca7f5b",
   "metadata": {},
   "outputs": [
    {
     "data": {
      "text/plain": [
       "0.979066985645933"
      ]
     },
     "execution_count": 9,
     "metadata": {},
     "output_type": "execute_result"
    }
   ],
   "source": [
    "accuracy_score(y_test, y_pred)"
   ]
  },
  {
   "cell_type": "code",
   "execution_count": 10,
   "id": "87a8a8e6-0e21-43e8-b2df-80a391d98428",
   "metadata": {},
   "outputs": [
    {
     "name": "stdout",
     "output_type": "stream",
     "text": [
      "              precision    recall  f1-score   support\n",
      "\n",
      "           0       0.98      1.00      0.99      1433\n",
      "           1       0.97      0.88      0.92       239\n",
      "\n",
      "    accuracy                           0.98      1672\n",
      "   macro avg       0.97      0.94      0.96      1672\n",
      "weighted avg       0.98      0.98      0.98      1672\n",
      "\n"
     ]
    }
   ],
   "source": [
    "print(classification_report(y_test, y_pred))"
   ]
  },
  {
   "cell_type": "code",
   "execution_count": 11,
   "id": "00bf6d0e-4318-47b8-98e3-1433d2edc4a1",
   "metadata": {},
   "outputs": [
    {
     "data": {
      "image/png": "[encoded data removed]",
      "text/plain": [
       "<Figure size 640x480 with 2 Axes>"
      ]
     },
     "metadata": {},
     "output_type": "display_data"
    }
   ],
   "source": [
    "from sklearn.metrics import confusion_matrix\n",
    "import seaborn as sns\n",
    "\n",
    "cm = confusion_matrix(y_test, y_pred)\n",
    "sns.heatmap(cm, annot=True, fmt='d', cmap=\"Greens\")\n",
    "plt.xlabel('Predicted')\n",
    "plt.ylabel('Actual')\n",
    "plt.title('Confusion Matrix')\n",
    "plt.show()"
   ]
  },
  {
   "cell_type": "markdown",
   "id": "1cda9948-b82a-445b-a218-3acc240e8644",
   "metadata": {},
   "source": [
    "## Learning Curve\n",
    "\n",
    "Let's also take a look at the learning curve over training set size. As we can see in the plot below, the performance of model improves significantly as the training size increases from `500` to `1500`, but after that it stays pretty much linear."
   ]
  },
  {
   "cell_type": "code",
   "execution_count": 12,
   "id": "e3553df4-d6a1-47b0-b299-ad6e483e235e",
   "metadata": {},
   "outputs": [
    {
     "data": {
      "image/png": "[encoded data removed]",
      "text/plain": [
       "<Figure size 1000x500 with 1 Axes>"
      ]
     },
     "metadata": {},
     "output_type": "display_data"
    }
   ],
   "source": [
    "train_sizes, train_scores, test_scores = learning_curve(\n",
    "    best_estimator, df[\"message\"], df[\"label\"], cv=5, n_jobs=-1, train_sizes=np.linspace(0.1, 1.0, 10)\n",
    ")\n",
    "\n",
    "train_mean = np.mean(train_scores, axis=1)\n",
    "test_mean = np.mean(test_scores, axis=1)\n",
    "\n",
    "plt.figure(figsize=(10, 5))\n",
    "plt.plot(train_sizes, train_mean, 'o-', label='Training score', c=\"skyblue\")\n",
    "plt.plot(train_sizes, test_mean, 'o-', label='Cross-validation score', c=\"orange\")\n",
    "plt.xlabel('Training Set Size')\n",
    "plt.ylabel('Score')\n",
    "plt.title('Learning Curve')\n",
    "plt.legend(loc='best')\n",
    "plt.show()"
   ]
  },
  {
   "cell_type": "markdown",
   "id": "6f0e69f9-b16d-408b-af60-43750035e142",
   "metadata": {},
   "source": [
    "## Better / Simplified Implementation\n",
    "\n",
    "Instead of calcuating the cross validation scores, graphing, and finding the best model manually, we can make use of sklearn's `GridSearchCV` which helps us find the best model easily."
   ]
  },
  {
   "cell_type": "code",
   "execution_count": 13,
   "id": "67ca7099-fc7a-4181-9f83-2a30a5d77de2",
   "metadata": {},
   "outputs": [
    {
     "name": "stdout",
     "output_type": "stream",
     "text": [
      "Fitting 5 folds for each of 48 candidates, totalling 240 fits\n",
      "Best Parameters: {'clf': LinearSVC(), 'clf__C': 10, 'clf__max_iter': 1000, 'tfidf__max_df': 0.8, 'tfidf__ngram_range': (1, 2)}\n",
      "Best Cross-Validation Accuracy: 0.985416446477732\n",
      "\n",
      "Classification Report for the Best Model:\n",
      "              precision    recall  f1-score   support\n",
      "\n",
      "           0       0.99      1.00      1.00       966\n",
      "           1       0.99      0.96      0.97       149\n",
      "\n",
      "    accuracy                           0.99      1115\n",
      "   macro avg       0.99      0.98      0.98      1115\n",
      "weighted avg       0.99      0.99      0.99      1115\n",
      "\n",
      "Test Accuracy: 0.9928251121076234\n"
     ]
    }
   ],
   "source": [
    "X_train, X_test, y_train, y_test = train_test_split(df['message'], df['label'], test_size=.2)\n",
    "\n",
    "pipeline = Pipeline([\n",
    "    ('tfidf', TfidfVectorizer()),\n",
    "    ('clf', LogisticRegression())  # Dummy initialization; actual classifier will be set by GridSearchCV\n",
    "])\n",
    "\n",
    "\n",
    "param_grid = [\n",
    "    {\n",
    "        'tfidf__max_df': [0.8, 1.0],\n",
    "        'tfidf__ngram_range': [(1, 1), (1, 2)],\n",
    "        'clf': [LogisticRegression(max_iter=1000)],\n",
    "        'clf__C': [0.1, 1, 10]\n",
    "    },\n",
    "    {\n",
    "        'tfidf__max_df': [0.8, 1.0],\n",
    "        'tfidf__ngram_range': [(1, 1), (1, 2)],\n",
    "        'clf': [MultinomialNB()],\n",
    "        'clf__alpha': [0.5, 1.0]\n",
    "    },\n",
    "    {\n",
    "        'tfidf__max_df': [0.8, 1.0],\n",
    "        'tfidf__ngram_range': [(1, 1), (1, 2)],\n",
    "        'clf': [LinearSVC()],\n",
    "        'clf__C': [0.1, 1, 10],\n",
    "        'clf__max_iter': [1000, 1500]\n",
    "    },\n",
    "    {\n",
    "        'tfidf__max_df': [0.8, 1.0],\n",
    "        'tfidf__ngram_range': [(1, 1), (1, 2)],\n",
    "        'clf': [RandomForestClassifier(n_estimators=100, random_state=42)],\n",
    "    }\n",
    "]\n",
    "\n",
    "\n",
    "grid_search = GridSearchCV(pipeline, param_grid, cv=5, scoring='accuracy', n_jobs=-1, verbose=1)\n",
    "grid_search.fit(X_train, y_train)\n",
    "\n",
    "print(\"Best Parameters:\", grid_search.best_params_)\n",
    "print(\"Best Cross-Validation Accuracy:\", grid_search.best_score_)\n",
    "\n",
    "best_model = grid_search.best_estimator_\n",
    "y_pred = best_model.predict(X_test)\n",
    "\n",
    "print(\"\\nClassification Report for the Best Model:\")\n",
    "print(classification_report(y_test, y_pred))\n",
    "print(\"Test Accuracy:\", accuracy_score(y_test, y_pred))"
   ]
  },
  {
   "cell_type": "markdown",
   "id": "7219198b-970d-4389-87b8-44b6645d4fe7",
   "metadata": {},
   "source": [
    "# Neural Networks\n",
    "\n",
    "As we saw above, our model is doing really well already. However, let's also try training a nueral network to see if it can perform just as good or better. We will use Tensorflow for this.\n",
    "\n",
    "Let's import the additional tools we will need:"
   ]
  },
  {
   "cell_type": "code",
   "execution_count": 14,
   "id": "53c2ad6f-20a6-4619-96a0-4a95c99abba7",
   "metadata": {},
   "outputs": [],
   "source": [
    "from tensorflow.keras.models import Sequential\n",
    "from tensorflow.keras.layers import Input, Dense, Dropout\n",
    "from tensorflow.keras.wrappers.scikit_learn import KerasClassifier\n",
    "from sklearn.preprocessing import FunctionTransformer"
   ]
  },
  {
   "cell_type": "markdown",
   "id": "380edd24-d5ef-458f-8876-15b0576fb393",
   "metadata": {},
   "source": [
    "## Building Model\n",
    "\n",
    "Let's create a helper function that can easily build a Sequential model using given parameters. "
   ]
  },
  {
   "cell_type": "code",
   "execution_count": 15,
   "id": "e8971208-dbfd-4a4b-9833-1dcc5e3d9320",
   "metadata": {},
   "outputs": [],
   "source": [
    "def build_model(layers=1, units=32, dropout_rate=0.0):\n",
    "    model = Sequential()\n",
    "    for i in range(layers):\n",
    "        model.add(Dense(units, activation='relu'))\n",
    "        if dropout_rate > 0:\n",
    "            model.add(Dropout(dropout_rate, seed=SEED))\n",
    "\n",
    "    model.add(Dense(1, activation='sigmoid'))\n",
    "    model.compile(optimizer='adam', loss='binary_crossentropy', metrics=['accuracy'])\n",
    "    return model"
   ]
  },
  {
   "cell_type": "markdown",
   "id": "a5bce176-8d21-428f-b32e-e3160ff30a10",
   "metadata": {},
   "source": [
    "## Pipeline\n",
    "\n",
    "We then create a pipeline to with vectorizer, a function transfomer to convert sparse vectorys to dense arrays, and the classifier."
   ]
  },
  {
   "cell_type": "code",
   "execution_count": null,
   "id": "c06ebf42-2001-4615-b1aa-1713dfc8a6f9",
   "metadata": {},
   "outputs": [],
   "source": [
    "pipeline = Pipeline([\n",
    "    ('tfidf', TfidfVectorizer(stop_words='english')),\n",
    "    ('to_dense', FunctionTransformer(lambda x: x.toarray(), accept_sparse=True)),\n",
    "    ('nn', KerasClassifier(build_fn=build_model, verbose=0, epochs=10))\n",
    "])"
   ]
  },
  {
   "cell_type": "code",
   "execution_count": null,
   "id": "e9738084-f51c-4a88-a51b-5fa4fa6842e6",
   "metadata": {},
   "outputs": [],
   "source": [
    "param_grid = {\n",
    "    'tfidf__ngram_range': [(1,1), (1,2)],\n",
    "    # 'tfidf__stop_words': [None, 'english'],\n",
    "    'tfidf__max_df': [0.8, 0.95],\n",
    "\n",
    "    'nn__layers': [1, 3],\n",
    "    'nn__units': [16, 32],\n",
    "    # 'nn__dropout_rate': [0, 0.5],\n",
    "    # 'nn__epochs': [20, 50],\n",
    "    # 'nn__batch_size': [32, 64]\n",
    "}\n",
    "\n",
    "grid_search = GridSearchCV(pipeline, param_grid, cv=3, scoring='accuracy', n_jobs=-1, verbose=0)\n",
    "grid_search.fit(X_train, y_train)    "
   ]
  },
  {
   "cell_type": "code",
   "execution_count": 18,
   "id": "93b3d60f-3919-4fcb-913c-1d59864e4924",
   "metadata": {},
   "outputs": [
    {
     "name": "stdout",
     "output_type": "stream",
     "text": [
      "The best parameters are: {'nn__layers': 1, 'nn__units': 32, 'tfidf__max_df': 0.95, 'tfidf__ngram_range': (1, 2)}\n",
      "The best score is: 0.9829468605601401\n"
     ]
    }
   ],
   "source": [
    "print(f\"The best parameters are: {grid_search.best_params_}\")\n",
    "print(f\"The best score is: {grid_search.best_score_}\")"
   ]
  },
  {
   "cell_type": "code",
   "execution_count": 19,
   "id": "af34e015-d9b9-4263-ba77-9e80a0260109",
   "metadata": {},
   "outputs": [
    {
     "name": "stdout",
     "output_type": "stream",
     "text": [
      "35/35 [==============================] - 0s 773us/step\n",
      "Accuracy score: 0.9874439461883409\n",
      "Classification Report:               precision    recall  f1-score   support\n",
      "\n",
      "           0       0.99      1.00      0.99       966\n",
      "           1       0.97      0.93      0.95       149\n",
      "\n",
      "    accuracy                           0.99      1115\n",
      "   macro avg       0.98      0.96      0.97      1115\n",
      "weighted avg       0.99      0.99      0.99      1115\n",
      "\n"
     ]
    }
   ],
   "source": [
    "model = grid_search.best_estimator_\n",
    "\n",
    "y_pred = model.predict(X_test)\n",
    "print(f\"Accuracy score: {accuracy_score(y_test, y_pred)}\")\n",
    "print(f\"Classification Report: {classification_report(y_test, y_pred)}\")"
   ]
  }
 ],
 "metadata": {
  "kernelspec": {
   "display_name": "Python 3 (ipykernel)",
   "language": "python",
   "name": "python3"
  },
  "language_info": {
   "codemirror_mode": {
    "name": "ipython",
    "version": 3
   },
   "file_extension": ".py",
   "mimetype": "text/x-python",
   "name": "python",
   "nbconvert_exporter": "python",
   "pygments_lexer": "ipython3",
   "version": "3.11.5"
  }
 },
 "nbformat": 4,
 "nbformat_minor": 5
}
