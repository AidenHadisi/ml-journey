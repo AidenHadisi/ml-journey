{
 "cells": [
  {
   "cell_type": "markdown",
   "id": "f22445df-8508-41a9-b9e8-41525979d35e",
   "metadata": {},
   "source": [
    "# Spam Classification\n",
    "\n",
    "In this project, we aim to classify Short Text Messages (SMS) as **spam** or **not spam**. This is a common text classification problem that has practical applications in filtering unwanted messages.\n",
    "\n",
    "---\n",
    "\n",
    "## Objectives\n",
    "\n",
    "- **Develop a robust classifier:** Explore different machine learning models to determine the most effective one for spam detection.\n",
    "- **Evaluate model performance:** Use cross-validation to assess each model’s accuracy and reliability.\n",
    "- **Deploy the best model:** Select the model with the highest performance for further use.\n",
    "\n",
    "---\n",
    "\n",
    "## Dataset Overview\n",
    "\n",
    "The dataset contains a collection of SMS messages, each accompanied by a label indicating whether the message is spam (`spam`) or not (`ham`). \n",
    "\n",
    "- **Message Text:** The content of the SMS.\n",
    "- **Label:** Indicates whether the message is spam or not.\n",
    "\n",
    "## Methodology\n",
    "\n",
    "1. **Data Exploration & Preprocessing:** \n",
    "   - Inspect the dataset for inconsistencies and missing values.\n",
    "   - Clean and preprocess text data to enhance model performance.\n",
    "\n",
    "2. **Model Training & Evaluation:**\n",
    "   - Train multiple models using the processed dataset.\n",
    "   - Use cross-validation techniques to evaluate each model’s performance.\n",
    "   - Compare metrics such as accuracy, precision, recall, and F1-score.\n",
    "\n",
    "3. **Model Selection:**\n",
    "   - Choose the best-performing model based on cross-validation scores.\n",
    "   - Fine-tune the selected model if necessary.\n"
   ]
  },
  {
   "cell_type": "markdown",
   "id": "5638517a-fb43-4220-8219-da38c39258bb",
   "metadata": {},
   "source": [
    "## Imports\n",
    "\n",
    "First we import all the tools we will need:"
   ]
  },
  {
   "cell_type": "code",
   "execution_count": 60,
   "id": "28f9a5e4-578b-4a01-b8e9-cf771f369e05",
   "metadata": {},
   "outputs": [],
   "source": [
    "import string\n",
    "import matplotlib.pylab as plt\n",
    "import numpy as np\n",
    "import pandas as pd\n",
    "\n",
    "from sklearn.ensemble import RandomForestClassifier\n",
    "from sklearn.feature_extraction.text import TfidfVectorizer\n",
    "from sklearn.linear_model import LogisticRegression\n",
    "from sklearn.metrics import accuracy_score, classification_report\n",
    "from sklearn.model_selection import cross_val_score, GridSearchCV, learning_curve, train_test_split\n",
    "from sklearn.naive_bayes import MultinomialNB\n",
    "from sklearn.neighbors import KNeighborsClassifier\n",
    "from sklearn.pipeline import Pipeline\n",
    "from sklearn.svm import LinearSVC"
   ]
  },
  {
   "cell_type": "markdown",
   "id": "d0064933-2fb1-4767-9475-f2f3defe1ea4",
   "metadata": {},
   "source": [
    "## Read Data Set\n",
    "\n",
    "Let's read the data set into a data frame and checkout 5 random rows to get an idea of what our data looks like:"
   ]
  },
  {
   "cell_type": "code",
   "execution_count": 43,
   "id": "ba9d2f9a-10c0-48fd-8994-5be935c0900e",
   "metadata": {},
   "outputs": [
    {
     "data": {
      "text/html": [
       "<div>\n",
       "<style scoped>\n",
       "    .dataframe tbody tr th:only-of-type {\n",
       "        vertical-align: middle;\n",
       "    }\n",
       "\n",
       "    .dataframe tbody tr th {\n",
       "        vertical-align: top;\n",
       "    }\n",
       "\n",
       "    .dataframe thead th {\n",
       "        text-align: right;\n",
       "    }\n",
       "</style>\n",
       "<table border=\"1\" class=\"dataframe\">\n",
       "  <thead>\n",
       "    <tr style=\"text-align: right;\">\n",
       "      <th></th>\n",
       "      <th>label</th>\n",
       "      <th>message</th>\n",
       "    </tr>\n",
       "  </thead>\n",
       "  <tbody>\n",
       "    <tr>\n",
       "      <th>1861</th>\n",
       "      <td>ham</td>\n",
       "      <td>It could work, we'll reach a consensus at the ...</td>\n",
       "    </tr>\n",
       "    <tr>\n",
       "      <th>4525</th>\n",
       "      <td>ham</td>\n",
       "      <td>I've sent ü my part..</td>\n",
       "    </tr>\n",
       "    <tr>\n",
       "      <th>2140</th>\n",
       "      <td>ham</td>\n",
       "      <td>But i juz remembered i gotta bathe my dog today..</td>\n",
       "    </tr>\n",
       "    <tr>\n",
       "      <th>608</th>\n",
       "      <td>ham</td>\n",
       "      <td>what I meant to say is cant wait to see u agai...</td>\n",
       "    </tr>\n",
       "    <tr>\n",
       "      <th>3252</th>\n",
       "      <td>ham</td>\n",
       "      <td>I‘ll leave around four, ok?</td>\n",
       "    </tr>\n",
       "  </tbody>\n",
       "</table>\n",
       "</div>"
      ],
      "text/plain": [
       "     label                                            message\n",
       "1861   ham  It could work, we'll reach a consensus at the ...\n",
       "4525   ham                              I've sent ü my part..\n",
       "2140   ham  But i juz remembered i gotta bathe my dog today..\n",
       "608    ham  what I meant to say is cant wait to see u agai...\n",
       "3252   ham                        I‘ll leave around four, ok?"
      ]
     },
     "execution_count": 43,
     "metadata": {},
     "output_type": "execute_result"
    }
   ],
   "source": [
    "df = pd.read_table('data/SMSSpamCollection', header=None, names=['label', 'message'])\n",
    "df.sample(5)"
   ]
  },
  {
   "cell_type": "markdown",
   "id": "74ffe2dd-5d91-4761-80b5-d83a2c6e32b5",
   "metadata": {},
   "source": [
    "## Prepare Labels\n",
    "\n",
    "We can see the the `label` column is either `ham` or `spam`. Let's convert the string label column to `1` or `0` to prepare the dataset for a binary classification. \n",
    "- Positive class `1` indicates the message is a spam.\n",
    "- Negative class `0` indicates the message is not spam."
   ]
  },
  {
   "cell_type": "code",
   "execution_count": 44,
   "id": "7c31dde8-7fb4-42da-a3cd-bc3f8408ca44",
   "metadata": {},
   "outputs": [
    {
     "data": {
      "text/html": [
       "<div>\n",
       "<style scoped>\n",
       "    .dataframe tbody tr th:only-of-type {\n",
       "        vertical-align: middle;\n",
       "    }\n",
       "\n",
       "    .dataframe tbody tr th {\n",
       "        vertical-align: top;\n",
       "    }\n",
       "\n",
       "    .dataframe thead th {\n",
       "        text-align: right;\n",
       "    }\n",
       "</style>\n",
       "<table border=\"1\" class=\"dataframe\">\n",
       "  <thead>\n",
       "    <tr style=\"text-align: right;\">\n",
       "      <th></th>\n",
       "      <th>label</th>\n",
       "      <th>message</th>\n",
       "    </tr>\n",
       "  </thead>\n",
       "  <tbody>\n",
       "    <tr>\n",
       "      <th>5518</th>\n",
       "      <td>0</td>\n",
       "      <td>By the way, i've put a skip right outside the ...</td>\n",
       "    </tr>\n",
       "    <tr>\n",
       "      <th>4791</th>\n",
       "      <td>0</td>\n",
       "      <td>Yup. Izzit still raining heavily cos i'm in e ...</td>\n",
       "    </tr>\n",
       "    <tr>\n",
       "      <th>3094</th>\n",
       "      <td>0</td>\n",
       "      <td>staff.science.nus.edu.sg/~phyhcmk/teaching/pc1323</td>\n",
       "    </tr>\n",
       "    <tr>\n",
       "      <th>1962</th>\n",
       "      <td>0</td>\n",
       "      <td>LOL that would be awesome payback.</td>\n",
       "    </tr>\n",
       "    <tr>\n",
       "      <th>3037</th>\n",
       "      <td>0</td>\n",
       "      <td>;-) ok. I feel like john lennon.</td>\n",
       "    </tr>\n",
       "  </tbody>\n",
       "</table>\n",
       "</div>"
      ],
      "text/plain": [
       "      label                                            message\n",
       "5518      0  By the way, i've put a skip right outside the ...\n",
       "4791      0  Yup. Izzit still raining heavily cos i'm in e ...\n",
       "3094      0  staff.science.nus.edu.sg/~phyhcmk/teaching/pc1323\n",
       "1962      0                 LOL that would be awesome payback.\n",
       "3037      0                   ;-) ok. I feel like john lennon."
      ]
     },
     "execution_count": 44,
     "metadata": {},
     "output_type": "execute_result"
    }
   ],
   "source": [
    "df[\"label\"] = df[\"label\"].map({\"ham\": 0, \"spam\": 1})\n",
    "df.sample(5)"
   ]
  },
  {
   "cell_type": "markdown",
   "id": "04f7bb2e-1222-4298-8294-9ce350ded0a5",
   "metadata": {},
   "source": [
    "## Prepare Messages\n",
    "\n",
    "Let's do some preprocessing on text messages to ensure we remove useless parts such as puncutations or digits as by intuition we know that these are probably not very useful when determing if a message is spam or not.  We also lowercase all the text and remove extra whitespace."
   ]
  },
  {
   "cell_type": "code",
   "execution_count": 45,
   "id": "19f8ffbc-ea8d-4fd8-b86e-e777564fcf17",
   "metadata": {},
   "outputs": [
    {
     "data": {
      "text/html": [
       "<div>\n",
       "<style scoped>\n",
       "    .dataframe tbody tr th:only-of-type {\n",
       "        vertical-align: middle;\n",
       "    }\n",
       "\n",
       "    .dataframe tbody tr th {\n",
       "        vertical-align: top;\n",
       "    }\n",
       "\n",
       "    .dataframe thead th {\n",
       "        text-align: right;\n",
       "    }\n",
       "</style>\n",
       "<table border=\"1\" class=\"dataframe\">\n",
       "  <thead>\n",
       "    <tr style=\"text-align: right;\">\n",
       "      <th></th>\n",
       "      <th>label</th>\n",
       "      <th>message</th>\n",
       "    </tr>\n",
       "  </thead>\n",
       "  <tbody>\n",
       "    <tr>\n",
       "      <th>2474</th>\n",
       "      <td>0</td>\n",
       "      <td>ok lor wat time ü finish</td>\n",
       "    </tr>\n",
       "    <tr>\n",
       "      <th>2165</th>\n",
       "      <td>0</td>\n",
       "      <td>nothing really just making sure everybodys up ...</td>\n",
       "    </tr>\n",
       "    <tr>\n",
       "      <th>3056</th>\n",
       "      <td>1</td>\n",
       "      <td>eastenders tv quiz what flower does dot compar...</td>\n",
       "    </tr>\n",
       "    <tr>\n",
       "      <th>5162</th>\n",
       "      <td>0</td>\n",
       "      <td>just send a text well skype later</td>\n",
       "    </tr>\n",
       "    <tr>\n",
       "      <th>4738</th>\n",
       "      <td>0</td>\n",
       "      <td>nt only for driving even for many reasons she ...</td>\n",
       "    </tr>\n",
       "  </tbody>\n",
       "</table>\n",
       "</div>"
      ],
      "text/plain": [
       "      label                                            message\n",
       "2474      0                           ok lor wat time ü finish\n",
       "2165      0  nothing really just making sure everybodys up ...\n",
       "3056      1  eastenders tv quiz what flower does dot compar...\n",
       "5162      0                  just send a text well skype later\n",
       "4738      0  nt only for driving even for many reasons she ..."
      ]
     },
     "execution_count": 45,
     "metadata": {},
     "output_type": "execute_result"
    }
   ],
   "source": [
    "def clean_text(text):\n",
    "    # remove punctuation\n",
    "    text = text.translate(text.maketrans('','', string.punctuation))\n",
    "\n",
    "    # remove digits\n",
    "    text = text.translate(text.maketrans('','', string.digits))\n",
    "\n",
    "    # lowercase\n",
    "    text = text.lower()\n",
    "\n",
    "    # trim\n",
    "    text = text.strip()\n",
    "    \n",
    "    return text\n",
    "\n",
    "df[\"message\"] = df[\"message\"].apply(clean_text)\n",
    "df.sample(5)"
   ]
  },
  {
   "cell_type": "markdown",
   "id": "7bf21451-4213-4cd1-9461-ef141f58b60b",
   "metadata": {},
   "source": [
    "## Define Models\n",
    "\n",
    "We are ready to define our models. We will test all the following models to see which one is doing better.\n",
    "\n",
    "\n",
    "| **Model**                         | **Description**                                                                                                                                             | **When It Excels**                                                                                                                                       | **Considerations**                                                                                                                                           |\n",
    "|-----------------------------------|-------------------------------------------------------------------------------------------------------------------------------------------------------------|----------------------------------------------------------------------------------------------------------------------------------------------------------|--------------------------------------------------------------------------------------------------------------------------------------------------------------|\n",
    "| **Logistic Regression**           | A linear model that uses a logistic function to model binary (or multi-class) outcomes.                                                                      | - Linearly separable data<br>- Scenarios where interpretability is important<br>- Low to moderate dimensionality                                           | - May struggle with complex, non-linear relationships<br>- Regularization (L1/L2) is often needed to prevent overfitting                                  |\n",
    "| **Multinomial Naive Bayes**       | A probabilistic classifier based on Bayes’ theorem with the assumption of feature independence, well-suited for discrete count data.                         | - Text classification (e.g., spam detection, document classification)<br>- High-dimensional, sparse data (e.g., word counts)                                | - The independence assumption may be unrealistic for some datasets<br>- Best for count-based features                                                     |\n",
    "| **Random Forest Classifier**      | An ensemble method that builds multiple decision trees using bootstrapped samples and random feature selection to improve prediction accuracy and robustness. | - Capturing complex, non-linear relationships<br>- Situations requiring robust performance and reduced overfitting<br>- Feature importance estimation      | - Can be computationally intensive, especially with many trees<br>- Less interpretable than simpler linear models                                          |\n",
    "| **Linear SVC**                    | A Support Vector Machine variant that finds the optimal linear hyperplane for class separation by maximizing the margin between classes.                     | - High-dimensional datasets (e.g., text data)<br>- Large-scale problems where speed is important<br>- Data with a clear linear margin between classes      | - Not suited for non-linear data unless a kernel is applied (which changes the model)<br>- Requires careful tuning of the regularization parameter (C)      |\n",
    "| **K-Nearest Neighbors (KNN)**     | A non-parametric, instance-based algorithm that classifies new data points based on the majority vote among the 'K' closest examples in the feature space. | - Simple, intuitive classification tasks<br>- Data with complex, non-linear decision boundaries when a proper K and distance metric are chosen<br>- Small datasets | - Prediction time can be slow for large datasets<br>- Sensitive to the choice of K and the distance metric<br>- Performance may degrade in high-dimensional spaces (curse of dimensionality) |\n"
   ]
  },
  {
   "cell_type": "code",
   "execution_count": 48,
   "id": "30419b8d-d99c-4d4c-aa24-7c5e58761bb3",
   "metadata": {},
   "outputs": [],
   "source": [
    "models = [\n",
    "    LogisticRegression(max_iter=1000),\n",
    "    MultinomialNB(),\n",
    "    RandomForestClassifier(),\n",
    "    LinearSVC(),\n",
    "    KNeighborsClassifier()\n",
    "]"
   ]
  },
  {
   "cell_type": "markdown",
   "id": "0e06c98a-e8c5-4da4-876d-32342470c298",
   "metadata": {},
   "source": [
    "## Training Models\n",
    "\n",
    "We will use the `cross_val_score` function the run cross validation tests on different models, saving the accuracy score for various models in our `results` array."
   ]
  },
  {
   "cell_type": "code",
   "execution_count": 50,
   "id": "757c6269-a524-40ad-8577-3247497e0bf7",
   "metadata": {},
   "outputs": [],
   "source": [
    "results = []\n",
    "for model in models:\n",
    "    pipeline = Pipeline([\n",
    "        ('tfidf', TfidfVectorizer(stop_words='english', max_df=0.95)),\n",
    "        ('clf', model)\n",
    "    ])\n",
    "\n",
    "    scores = cross_val_score(pipeline, df[\"message\"], df[\"label\"], scoring=\"accuracy\", cv=5)\n",
    "    results.append(scores)"
   ]
  },
  {
   "cell_type": "markdown",
   "id": "c5a4ee4b-683d-425c-a865-25e897d803d6",
   "metadata": {},
   "source": [
    "## Plot Results\n",
    "\n",
    "Now let's create a plot of the scores to see which model is doing better:"
   ]
  },
  {
   "cell_type": "code",
   "execution_count": 51,
   "id": "b42d198b-3480-4227-9a05-68fa04a8e225",
   "metadata": {},
   "outputs": [
    {
     "data": {
      "image/png": "[encoded data removed]",
      "text/plain": [
       "<Figure size 1200x500 with 1 Axes>"
      ]
     },
     "metadata": {},
     "output_type": "display_data"
    }
   ],
   "source": [
    "plt.figure(figsize=(12, 5));\n",
    "plt.bar([\"LogisticRegression\", \"MultinomialNB\", \"RandomForestClassifier\", \"LinearSVC\", \"KNeighborsClassifier\"] ,np.mean(results, axis=1), color=\"skyblue\")\n",
    "plt.title(\"Model Performance\");\n",
    "plt.ylabel(\"Accuracy\");"
   ]
  },
  {
   "cell_type": "markdown",
   "id": "7423f809-690b-4a01-a74d-3f45a8664833",
   "metadata": {},
   "source": [
    "## Select Best Model\n",
    "\n",
    "Using the plot above, we can see that the `LinearSVC` model is peforming better than others, while `KNeighborsClassifier` is the worst among all the models. So let's select that as our model and check out some additional metrics:"
   ]
  },
  {
   "cell_type": "code",
   "execution_count": 54,
   "id": "cc849320-b9cf-4c80-bd50-bcb9cf3a9c97",
   "metadata": {},
   "outputs": [],
   "source": [
    "X_train, X_test, y_train, y_test = train_test_split(df['message'], df['label'], test_size=0.3)\n",
    "\n",
    "best_estimator = Pipeline([\n",
    "    ('tfidf', TfidfVectorizer(stop_words='english', max_df=0.95)),\n",
    "    ('clf', LinearSVC())\n",
    "])\n",
    "\n",
    "best_estimator.fit(X_train, y_train)\n",
    "y_pred = best_estimator.predict(X_test)"
   ]
  },
  {
   "cell_type": "code",
   "execution_count": 55,
   "id": "fa58fcc4-96d7-49a4-8428-d0c242ca7f5b",
   "metadata": {},
   "outputs": [
    {
     "data": {
      "text/plain": [
       "0.9784688995215312"
      ]
     },
     "execution_count": 55,
     "metadata": {},
     "output_type": "execute_result"
    }
   ],
   "source": [
    "accuracy_score(y_test, y_pred)"
   ]
  },
  {
   "cell_type": "code",
   "execution_count": 56,
   "id": "87a8a8e6-0e21-43e8-b2df-80a391d98428",
   "metadata": {},
   "outputs": [
    {
     "name": "stdout",
     "output_type": "stream",
     "text": [
      "              precision    recall  f1-score   support\n",
      "\n",
      "           0       0.98      1.00      0.99      1462\n",
      "           1       0.97      0.85      0.91       210\n",
      "\n",
      "    accuracy                           0.98      1672\n",
      "   macro avg       0.98      0.92      0.95      1672\n",
      "weighted avg       0.98      0.98      0.98      1672\n",
      "\n"
     ]
    }
   ],
   "source": [
    "print(classification_report(y_test, y_pred))"
   ]
  },
  {
   "cell_type": "code",
   "execution_count": 57,
   "id": "00bf6d0e-4318-47b8-98e3-1433d2edc4a1",
   "metadata": {},
   "outputs": [
    {
     "data": {
      "image/png": "[encoded data removed]",
      "text/plain": [
       "<Figure size 640x480 with 2 Axes>"
      ]
     },
     "metadata": {},
     "output_type": "display_data"
    }
   ],
   "source": [
    "from sklearn.metrics import confusion_matrix\n",
    "import seaborn as sns\n",
    "\n",
    "cm = confusion_matrix(y_test, y_pred)\n",
    "sns.heatmap(cm, annot=True, fmt='d', cmap='Blues')\n",
    "plt.xlabel('Predicted')\n",
    "plt.ylabel('Actual')\n",
    "plt.title('Confusion Matrix')\n",
    "plt.show()"
   ]
  },
  {
   "cell_type": "markdown",
   "id": "1cda9948-b82a-445b-a218-3acc240e8644",
   "metadata": {},
   "source": [
    "## Learning Curve\n",
    "\n",
    "Let's also take a look at the learning curve over training set size. As we can see in the plot below, the performance of model improves significantly as the training size increases from `500` to `1500`, but after that it stays pretty much linear."
   ]
  },
  {
   "cell_type": "code",
   "execution_count": 59,
   "id": "e3553df4-d6a1-47b0-b299-ad6e483e235e",
   "metadata": {},
   "outputs": [
    {
     "data": {
      "image/png": "[encoded data removed]",
      "text/plain": [
       "<Figure size 1000x500 with 1 Axes>"
      ]
     },
     "metadata": {},
     "output_type": "display_data"
    }
   ],
   "source": [
    "train_sizes, train_scores, test_scores = learning_curve(\n",
    "    best_estimator, df[\"message\"], df[\"label\"], cv=5, n_jobs=-1, train_sizes=np.linspace(0.1, 1.0, 10)\n",
    ")\n",
    "\n",
    "train_mean = np.mean(train_scores, axis=1)\n",
    "test_mean = np.mean(test_scores, axis=1)\n",
    "\n",
    "plt.figure(figsize=(10, 5))\n",
    "plt.plot(train_sizes, train_mean, 'o-', label='Training score', c=\"skyblue\")\n",
    "plt.plot(train_sizes, test_mean, 'o-', label='Cross-validation score', c=\"orange\")\n",
    "plt.xlabel('Training Set Size')\n",
    "plt.ylabel('Score')\n",
    "plt.title('Learning Curve')\n",
    "plt.legend(loc='best')\n",
    "plt.show()"
   ]
  },
  {
   "cell_type": "markdown",
   "id": "6f0e69f9-b16d-408b-af60-43750035e142",
   "metadata": {},
   "source": [
    "## Better / Simplified Implementation\n",
    "\n",
    "Instead of calcuating the cross validation scores, graphing, and finding the best model manually, we can make use of sklearn's `GridSearchCV` which helps us find the best model easily."
   ]
  },
  {
   "cell_type": "code",
   "execution_count": 61,
   "id": "67ca7099-fc7a-4181-9f83-2a30a5d77de2",
   "metadata": {},
   "outputs": [
    {
     "name": "stdout",
     "output_type": "stream",
     "text": [
      "Fitting 5 folds for each of 48 candidates, totalling 240 fits\n",
      "Best Parameters: {'clf': LinearSVC(), 'clf__C': 1, 'clf__max_iter': 1000, 'tfidf__max_df': 0.8, 'tfidf__ngram_range': (1, 2)}\n",
      "Best Cross-Validation Accuracy: 0.9829465557417725\n",
      "\n",
      "Classification Report for the Best Model:\n",
      "              precision    recall  f1-score   support\n",
      "\n",
      "           0       0.98      1.00      0.99       961\n",
      "           1       1.00      0.90      0.95       154\n",
      "\n",
      "    accuracy                           0.99      1115\n",
      "   macro avg       0.99      0.95      0.97      1115\n",
      "weighted avg       0.99      0.99      0.99      1115\n",
      "\n",
      "Test Accuracy: 0.9865470852017937\n"
     ]
    }
   ],
   "source": [
    "X_train, X_test, y_train, y_test = train_test_split(df['message'], df['label'], test_size=.2)\n",
    "\n",
    "pipeline = Pipeline([\n",
    "    ('tfidf', TfidfVectorizer()),\n",
    "    ('clf', LogisticRegression())  # Dummy initialization; actual classifier will be set by GridSearchCV\n",
    "])\n",
    "\n",
    "\n",
    "param_grid = [\n",
    "    {\n",
    "        'tfidf__max_df': [0.8, 1.0],\n",
    "        'tfidf__ngram_range': [(1, 1), (1, 2)],\n",
    "        'clf': [LogisticRegression(max_iter=1000)],\n",
    "        'clf__C': [0.1, 1, 10]\n",
    "    },\n",
    "    {\n",
    "        'tfidf__max_df': [0.8, 1.0],\n",
    "        'tfidf__ngram_range': [(1, 1), (1, 2)],\n",
    "        'clf': [MultinomialNB()],\n",
    "        'clf__alpha': [0.5, 1.0]\n",
    "    },\n",
    "    {\n",
    "        'tfidf__max_df': [0.8, 1.0],\n",
    "        'tfidf__ngram_range': [(1, 1), (1, 2)],\n",
    "        'clf': [LinearSVC()],\n",
    "        'clf__C': [0.1, 1, 10],\n",
    "        'clf__max_iter': [1000, 1500]\n",
    "    },\n",
    "    {\n",
    "        'tfidf__max_df': [0.8, 1.0],\n",
    "        'tfidf__ngram_range': [(1, 1), (1, 2)],\n",
    "        'clf': [RandomForestClassifier(n_estimators=100, random_state=42)],\n",
    "    }\n",
    "]\n",
    "\n",
    "\n",
    "grid_search = GridSearchCV(pipeline, param_grid, cv=5, scoring='accuracy', n_jobs=-1, verbose=1)\n",
    "grid_search.fit(X_train, y_train)\n",
    "\n",
    "print(\"Best Parameters:\", grid_search.best_params_)\n",
    "print(\"Best Cross-Validation Accuracy:\", grid_search.best_score_)\n",
    "\n",
    "best_model = grid_search.best_estimator_\n",
    "y_pred = best_model.predict(X_test)\n",
    "\n",
    "print(\"\\nClassification Report for the Best Model:\")\n",
    "print(classification_report(y_test, y_pred))\n",
    "print(\"Test Accuracy:\", accuracy_score(y_test, y_pred))"
   ]
  },
  {
   "cell_type": "markdown",
   "id": "7219198b-970d-4389-87b8-44b6645d4fe7",
   "metadata": {},
   "source": [
    "# Neural Networks\n",
    "\n",
    "As we saw above, our model is doing really well already. However, let's also try training a nueral network to see if it can perform just as good or better. We will use Tensorflow for this.\n",
    "\n",
    "Let's import the additional tools we will need:"
   ]
  }
 ],
 "metadata": {
  "kernelspec": {
   "display_name": "Python 3 (ipykernel)",
   "language": "python",
   "name": "python3"
  },
  "language_info": {
   "codemirror_mode": {
    "name": "ipython",
    "version": 3
   },
   "file_extension": ".py",
   "mimetype": "text/x-python",
   "name": "python",
   "nbconvert_exporter": "python",
   "pygments_lexer": "ipython3",
   "version": "3.12.8"
  }
 },
 "nbformat": 4,
 "nbformat_minor": 5
}
