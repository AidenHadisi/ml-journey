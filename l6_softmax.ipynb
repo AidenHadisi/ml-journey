{
 "cells": [
  {
   "cell_type": "markdown",
   "id": "9fbd101d-38dd-4cdf-9a17-cc759a111742",
   "metadata": {},
   "source": [
    "# SoftMax - Multiclass Classification\n",
    "\n",
    "In multiclass classification, the target variable $y$ can take on more than two discrete values (e.g., digits 0–9, various diseases, or different defect types).  \n",
    "\n",
    "Imagine plotting data points on a plane where each cluster represents a different class. Instead of just two clusters (binary), you may have several clusters, each with a unique marker (e.g., circles, triangles, squares).\n",
    "\n",
    "**Binary vs. Multiclass:**  \n",
    "- **Binary:** $y \\in \\{0, 1\\}$\n",
    "- **Multiclass:** $y \\in \\{1, 2, \\dots, n\\}$\n",
    "\n",
    "**Examples:**  \n",
    "- **Handwritten Digit Recognition:** Recognize digits $0$ through $9$ (10 classes).\n",
    "- **Medical Diagnosis:** Identify one disease among several possibilities.\n",
    "- **Quality Inspection:** Classify parts with different types of defects (e.g., scratch, discoloration, chip).\n",
    "\n",
    "---\n",
    "\n",
    "## Softmax Regression\n",
    "\n",
    "Softmax regression extends logistic regression to handle multiclass problems.\n",
    "\n",
    "\n",
    "**Logistic Regression (Binary):**  \n",
    "\n",
    "Compute:\n",
    "  \n",
    "$$z = \\mathbf{w} \\cdot \\mathbf{x} + b$$\n",
    "  \n",
    "Then apply the sigmoid function:\n",
    "  \n",
    "$$a = g(z) = \\frac{1}{1 + e^{-z}}$$\n",
    "  \n",
    "- where $a$ is the probability that $y = 1$. The probability for $y = 0$ is $1 - a$.\n",
    "\n",
    "\n",
    "**Softmax Regression (Multiclass):**  \n",
    "\n",
    "For each class $j$ (with $j = 1, 2, \\dots, n$), compute:\n",
    "  \n",
    "$$z_j = \\mathbf{w}_j \\cdot \\mathbf{x} + b_j.$$\n",
    "  \n",
    "Then, calculate the probabilities using the softmax function:\n",
    "  \n",
    "$$a_j = \\frac{e^{z_j}}{\\sum_{k=1}^{n} e^{z_k}}$$\n",
    "  \n",
    "The probabilities satisfy:\n",
    "\n",
    "$$\\sum_{j=1}^{n} a_j = 1$$\n",
    "\n",
    "### Example with 4 Classes\n",
    "\n",
    "For $n = 4$, compute:\n",
    "\n",
    "$$\n",
    "z_1 = \\mathbf{w}_1 \\cdot \\mathbf{x} + b_1,\n",
    "$$\n",
    "\n",
    "$$\n",
    "z_2 = \\mathbf{w}_2 \\cdot \\mathbf{x} + b_2,\n",
    "$$\n",
    "\n",
    "$$\n",
    "z_3 = \\mathbf{w}_3 \\cdot \\mathbf{x} + b_3,\n",
    "$$\n",
    "\n",
    "$$\n",
    "z_4 = \\mathbf{w}_4 \\cdot \\mathbf{x} + b_4.\n",
    "$$\n",
    "\n",
    "Then, for each class:\n",
    "\n",
    "$$\n",
    "a_j = \\frac{e^{z_j}}{e^{z_1} + e^{z_2} + e^{z_3} + e^{z_4}} \\quad \\text{for } j=1,2,3,4.\n",
    "$$"
   ]
  },
  {
   "cell_type": "code",
   "execution_count": 46,
   "id": "3fffbd5f-23c8-4a15-b028-e7721910a7c7",
   "metadata": {},
   "outputs": [],
   "source": [
    "def soft_max(z):\n",
    "    \"\"\"\n",
    "    Compute the softmax values for given vector z.\n",
    "    \"\"\"\n",
    "\n",
    "    exp_z = np.exp(z)\n",
    "    return exp_z / np.sum(exp_z)"
   ]
  },
  {
   "cell_type": "code",
   "execution_count": 47,
   "id": "123c4383-ab9d-4603-a7af-de15df87f0cc",
   "metadata": {},
   "outputs": [
    {
     "data": {
      "text/plain": [
       "array([[0.0320586 ],\n",
       "       [0.08714432],\n",
       "       [0.23688282],\n",
       "       [0.64391426]])"
      ]
     },
     "execution_count": 47,
     "metadata": {},
     "output_type": "execute_result"
    }
   ],
   "source": [
    "z = np.array([1, 2, 3, 4]).reshape(-1, 1)\n",
    "soft_max(z)"
   ]
  },
  {
   "cell_type": "markdown",
   "id": "99d6f18a-466a-47a9-aaa4-1898d506c968",
   "metadata": {},
   "source": [
    "## Cost Function for Softmax Regression\n",
    "\n",
    "### Cross-Entropy Loss\n",
    "\n",
    "**For Logistic Regression (Binary):**\n",
    "\n",
    "$$\n",
    "\\text{Loss} = -\\Big[ y \\log(a) + (1-y) \\log(1-a) \\Big].\n",
    "$$\n",
    "\n",
    "**For Softmax Regression (Multiclass):**  \n",
    "\n",
    "If the true label is $y = j$, the loss for that example is:\n",
    "\n",
    "$$\n",
    "L = -\\log(a_j).\n",
    "$$\n",
    "\n",
    "- A high $a_j$ (close to 1) leads to a low loss.\n",
    "- A low $a_j$ results in a high loss.\n",
    "- The overall cost is the average loss over all training examples.\n",
    "\n",
    "**Cost**\n",
    "\n",
    "Note that only the line that corresponds to the target contributes to the loss, other lines are zero. To write the cost equation we need an 'indicator function' that will be 1 when the index matches the target and zero otherwise. \n",
    "\n",
    "$$\\mathbf{1}\\{y == n\\} = =\\begin{cases}\n",
    "1, & \\text{if $y==n$}.\\\\\n",
    "0, & \\text{otherwise}.\n",
    "\\end{cases}$$\n",
    "  \n",
    "Therefore the cost function can be written as:\n",
    "\n",
    "$$\n",
    "\\begin{align}\n",
    "J(\\mathbf{w},b) = -\\frac{1}{m} \\left[ \\sum_{i=1}^{m} \\sum_{j=1}^{N}  1\\left\\{y^{(i)} == j\\right\\} \\log \\frac{e^{z^{(i)}_j}}{\\sum_{k=1}^N e^{z^{(i)}_k} }\\right]\n",
    "\\end{align}\n",
    "$$\n",
    "\n",
    "---\n",
    "\n",
    "## Neural Networks with a Softmax Output Layer\n",
    "\n",
    "**Structure:**\n",
    "- **Input Layer:** Features $\\mathbf{X}$.\n",
    "- **Hidden Layers:** One or more layers with activations (e.g., ReLU).\n",
    "- **Output Layer:** $K$ neurons (one per class) with a softmax activation.\n",
    "\n",
    "### Forward Propagation in the Output Layer\n",
    "\n",
    "For a network with $K$ output classes, compute the logits:\n",
    "\n",
    "$$\n",
    "Z_j = \\mathbf{W}_j \\cdot a^{(L-1)} + b_j \\quad \\text{for } j = 1, \\dots, K,\n",
    "$$\n",
    "\n",
    "where $a^{(L-1)}$ are the activations from the previous layer. Then, apply softmax:\n",
    "\n",
    "$$\n",
    "a_j = \\frac{e^{Z_j}}{\\sum_{k=1}^{K} e^{Z_k}}.\n",
    "$$\n",
    "\n",
    "**Note:**  \n",
    "Each $a_j$ depends on all $Z_k$ values, unlike element-wise activations (e.g., sigmoid).\n",
    "\n",
    "### TensorFlow Implementation (Conceptual Overview)\n",
    "\n",
    "```python\n",
    "model = tf.keras.Sequential([\n",
    "    tf.keras.layers.Dense(25, activation='relu', input_shape=(input_dim,)),\n",
    "    tf.keras.layers.Dense(15, activation='relu'),\n",
    "    tf.keras.layers.Dense(10, activation='softmax')  # For 10 classes\n",
    "])\n",
    "```\n",
    "\n",
    "**Loss Function:**  \n",
    "\n",
    "Use `SparseCategoricalCrossentropy`:\n",
    "  \n",
    "```python\n",
    "model.compile(optimizer='adam', loss='sparse_categorical_crossentropy', metrics=['accuracy'])\n",
    "```\n",
    "\n",
    "---\n",
    "\n",
    "## Numerical Stability in Softmax Implementations\n",
    "\n",
    "- **Floating-Point Precision:** Exponential functions can produce very large or very small numbers, leading to round-off errors.\n",
    "- **Example:** Computing $2/10000$ directly versus through an alternative formulation can yield slight differences due to limited precision.\n",
    "\n",
    "### Improving Stability\n",
    "\n",
    "**Combine Computations:**  \n",
    "\n",
    "Instead of computing softmax probabilities and then applying cross-entropy, combine them. This allows frameworks like TensorFlow to rearrange operations for better numerical accuracy.\n",
    "\n",
    "**TensorFlow Example with Logits:**  \n",
    "\n",
    "Use `from_logits=True` to compute the loss more stably:\n",
    "\n",
    "```python\n",
    "model = tf.keras.Sequential([\n",
    "    tf.keras.layers.Dense(25, activation='relu', input_shape=(input_dim,)),\n",
    "    tf.keras.layers.Dense(15, activation='relu'),\n",
    "    tf.keras.layers.Dense(10)  # Linear activation; outputs are logits\n",
    "])\n",
    "\n",
    "model.compile(\n",
    "    optimizer='adam',\n",
    "    loss=tf.keras.losses.SparseCategoricalCrossentropy(from_logits=True),\n",
    "    metrics=['accuracy']\n",
    ")\n",
    "```\n",
    "\n",
    "---\n",
    "\n",
    "## Multi-label Classification\n",
    "\n",
    "**Multi-class vs. Multi-label:**\n",
    "- **Multi-class:** Each example is assigned exactly one label (even if there are many classes).\n",
    "- **Multi-label:** Each example can have **multiple labels** simultaneously.\n",
    "\n",
    "**Example:** In self-driving cars, an image may be labeled for:\n",
    "- Presence of a car\n",
    "- Presence of a bus\n",
    "- Presence of a pedestrian\n",
    "  \n",
    "Here, the output might be a vector such as $[1, 0, 1]$, indicating \"yes\" for car and pedestrian, and \"no\" for bus.\n",
    "\n",
    "### Neural Network Implementation for Multi-label Classification\n",
    "\n",
    "**Approach 1:**  \n",
    "\n",
    "Train separate binary classifiers for each label.\n",
    "\n",
    "**Approach 2:**  \n",
    "\n",
    "Use a single network with multiple outputs:\n",
    "- **Output Layer:** One neuron per label.\n",
    "- **Activation:** Use the sigmoid function for each output, as each label represents an independent binary decision.\n",
    "  \n",
    "**TensorFlow Example:**\n",
    "  \n",
    "```python\n",
    "model = tf.keras.Sequential([\n",
    "    tf.keras.layers.Dense(64, activation='relu', input_shape=(input_dim,)),\n",
    "    tf.keras.layers.Dense(32, activation='relu'),\n",
    "    tf.keras.layers.Dense(3, activation='sigmoid')  # 3 labels: car, bus, pedestrian\n",
    "])\n",
    "\n",
    "model.compile(\n",
    "    optimizer='adam',\n",
    "    loss='binary_crossentropy',  # Suitable for multi-label classification\n",
    "    metrics=['accuracy']\n",
    ")\n",
    "```\n"
   ]
  },
  {
   "cell_type": "code",
   "execution_count": 48,
   "id": "dc6aa3af-a49e-4abe-8ecc-c10b9d48888d",
   "metadata": {},
   "outputs": [],
   "source": [
    "import tensorflow as tf\n",
    "import numpy as np\n",
    "import matplotlib.pyplot as plt"
   ]
  },
  {
   "cell_type": "code",
   "execution_count": 49,
   "id": "6b5bb820-4e75-4a66-b56a-000b22aa5399",
   "metadata": {},
   "outputs": [
    {
     "data": {
      "text/plain": [
       "((5000, 400), (5000, 1))"
      ]
     },
     "execution_count": 49,
     "metadata": {},
     "output_type": "execute_result"
    }
   ],
   "source": [
    "X = np.load(\"data/handwritten_digits_X.npy\")\n",
    "y = np.load(\"data/handwritten_digits_y.npy\")\n",
    "X.shape, y.shape"
   ]
  },
  {
   "cell_type": "code",
   "execution_count": 50,
   "id": "2ab253fe-1052-4076-9409-30ca120dbae2",
   "metadata": {},
   "outputs": [
    {
     "data": {
      "text/html": [
       "<pre style=\"white-space:pre;overflow-x:auto;line-height:normal;font-family:Menlo,'DejaVu Sans Mono',consolas,'Courier New',monospace\"><span style=\"font-weight: bold\">Model: \"my_model\"</span>\n",
       "</pre>\n"
      ],
      "text/plain": [
       "\u001b[1mModel: \"my_model\"\u001b[0m\n"
      ]
     },
     "metadata": {},
     "output_type": "display_data"
    },
    {
     "data": {
      "text/html": [
       "<pre style=\"white-space:pre;overflow-x:auto;line-height:normal;font-family:Menlo,'DejaVu Sans Mono',consolas,'Courier New',monospace\">┏━━━━━━━━━━━━━━━━━━━━━━━━━━━━━━━━━┳━━━━━━━━━━━━━━━━━━━━━━━━┳━━━━━━━━━━━━━━━┓\n",
       "┃<span style=\"font-weight: bold\"> Layer (type)                    </span>┃<span style=\"font-weight: bold\"> Output Shape           </span>┃<span style=\"font-weight: bold\">       Param # </span>┃\n",
       "┡━━━━━━━━━━━━━━━━━━━━━━━━━━━━━━━━━╇━━━━━━━━━━━━━━━━━━━━━━━━╇━━━━━━━━━━━━━━━┩\n",
       "│ dense_6 (<span style=\"color: #0087ff; text-decoration-color: #0087ff\">Dense</span>)                 │ (<span style=\"color: #00d7ff; text-decoration-color: #00d7ff\">None</span>, <span style=\"color: #00af00; text-decoration-color: #00af00\">25</span>)             │        <span style=\"color: #00af00; text-decoration-color: #00af00\">10,025</span> │\n",
       "├─────────────────────────────────┼────────────────────────┼───────────────┤\n",
       "│ dense_7 (<span style=\"color: #0087ff; text-decoration-color: #0087ff\">Dense</span>)                 │ (<span style=\"color: #00d7ff; text-decoration-color: #00d7ff\">None</span>, <span style=\"color: #00af00; text-decoration-color: #00af00\">15</span>)             │           <span style=\"color: #00af00; text-decoration-color: #00af00\">390</span> │\n",
       "├─────────────────────────────────┼────────────────────────┼───────────────┤\n",
       "│ dense_8 (<span style=\"color: #0087ff; text-decoration-color: #0087ff\">Dense</span>)                 │ (<span style=\"color: #00d7ff; text-decoration-color: #00d7ff\">None</span>, <span style=\"color: #00af00; text-decoration-color: #00af00\">10</span>)             │           <span style=\"color: #00af00; text-decoration-color: #00af00\">160</span> │\n",
       "└─────────────────────────────────┴────────────────────────┴───────────────┘\n",
       "</pre>\n"
      ],
      "text/plain": [
       "┏━━━━━━━━━━━━━━━━━━━━━━━━━━━━━━━━━┳━━━━━━━━━━━━━━━━━━━━━━━━┳━━━━━━━━━━━━━━━┓\n",
       "┃\u001b[1m \u001b[0m\u001b[1mLayer (type)                   \u001b[0m\u001b[1m \u001b[0m┃\u001b[1m \u001b[0m\u001b[1mOutput Shape          \u001b[0m\u001b[1m \u001b[0m┃\u001b[1m \u001b[0m\u001b[1m      Param #\u001b[0m\u001b[1m \u001b[0m┃\n",
       "┡━━━━━━━━━━━━━━━━━━━━━━━━━━━━━━━━━╇━━━━━━━━━━━━━━━━━━━━━━━━╇━━━━━━━━━━━━━━━┩\n",
       "│ dense_6 (\u001b[38;5;33mDense\u001b[0m)                 │ (\u001b[38;5;45mNone\u001b[0m, \u001b[38;5;34m25\u001b[0m)             │        \u001b[38;5;34m10,025\u001b[0m │\n",
       "├─────────────────────────────────┼────────────────────────┼───────────────┤\n",
       "│ dense_7 (\u001b[38;5;33mDense\u001b[0m)                 │ (\u001b[38;5;45mNone\u001b[0m, \u001b[38;5;34m15\u001b[0m)             │           \u001b[38;5;34m390\u001b[0m │\n",
       "├─────────────────────────────────┼────────────────────────┼───────────────┤\n",
       "│ dense_8 (\u001b[38;5;33mDense\u001b[0m)                 │ (\u001b[38;5;45mNone\u001b[0m, \u001b[38;5;34m10\u001b[0m)             │           \u001b[38;5;34m160\u001b[0m │\n",
       "└─────────────────────────────────┴────────────────────────┴───────────────┘\n"
      ]
     },
     "metadata": {},
     "output_type": "display_data"
    },
    {
     "data": {
      "text/html": [
       "<pre style=\"white-space:pre;overflow-x:auto;line-height:normal;font-family:Menlo,'DejaVu Sans Mono',consolas,'Courier New',monospace\"><span style=\"font-weight: bold\"> Total params: </span><span style=\"color: #00af00; text-decoration-color: #00af00\">10,575</span> (41.31 KB)\n",
       "</pre>\n"
      ],
      "text/plain": [
       "\u001b[1m Total params: \u001b[0m\u001b[38;5;34m10,575\u001b[0m (41.31 KB)\n"
      ]
     },
     "metadata": {},
     "output_type": "display_data"
    },
    {
     "data": {
      "text/html": [
       "<pre style=\"white-space:pre;overflow-x:auto;line-height:normal;font-family:Menlo,'DejaVu Sans Mono',consolas,'Courier New',monospace\"><span style=\"font-weight: bold\"> Trainable params: </span><span style=\"color: #00af00; text-decoration-color: #00af00\">10,575</span> (41.31 KB)\n",
       "</pre>\n"
      ],
      "text/plain": [
       "\u001b[1m Trainable params: \u001b[0m\u001b[38;5;34m10,575\u001b[0m (41.31 KB)\n"
      ]
     },
     "metadata": {},
     "output_type": "display_data"
    },
    {
     "data": {
      "text/html": [
       "<pre style=\"white-space:pre;overflow-x:auto;line-height:normal;font-family:Menlo,'DejaVu Sans Mono',consolas,'Courier New',monospace\"><span style=\"font-weight: bold\"> Non-trainable params: </span><span style=\"color: #00af00; text-decoration-color: #00af00\">0</span> (0.00 B)\n",
       "</pre>\n"
      ],
      "text/plain": [
       "\u001b[1m Non-trainable params: \u001b[0m\u001b[38;5;34m0\u001b[0m (0.00 B)\n"
      ]
     },
     "metadata": {},
     "output_type": "display_data"
    }
   ],
   "source": [
    "model = tf.keras.Sequential([\n",
    "    tf.keras.Input(shape=(400,)),\n",
    "    tf.keras.layers.Dense(25, activation=\"relu\"),\n",
    "    tf.keras.layers.Dense(15, activation=\"relu\"),\n",
    "    tf.keras.layers.Dense(10)\n",
    "], name=\"my_model\")\n",
    "\n",
    "model.summary()             "
   ]
  },
  {
   "cell_type": "code",
   "execution_count": 51,
   "id": "4b2c8771-4514-4268-b67e-a00d67288b3a",
   "metadata": {},
   "outputs": [],
   "source": [
    "model.compile(\n",
    "    loss=tf.keras.losses.SparseCategoricalCrossentropy(from_logits=True), \n",
    "    optimizer=\"adam\", \n",
    "    metrics=['accuracy']\n",
    ")"
   ]
  },
  {
   "cell_type": "code",
   "execution_count": 52,
   "id": "7f01aec4-8ab3-407c-bbb0-af01f892e09d",
   "metadata": {},
   "outputs": [
    {
     "name": "stdout",
     "output_type": "stream",
     "text": [
      "Epoch 1/40\n",
      "\u001b[1m157/157\u001b[0m \u001b[32m━━━━━━━━━━━━━━━━━━━━\u001b[0m\u001b[37m\u001b[0m \u001b[1m0s\u001b[0m 388us/step - accuracy: 0.2757 - loss: 2.0120\n",
      "Epoch 2/40\n",
      "\u001b[1m157/157\u001b[0m \u001b[32m━━━━━━━━━━━━━━━━━━━━\u001b[0m\u001b[37m\u001b[0m \u001b[1m0s\u001b[0m 380us/step - accuracy: 0.8128 - loss: 0.7601\n",
      "Epoch 3/40\n",
      "\u001b[1m157/157\u001b[0m \u001b[32m━━━━━━━━━━━━━━━━━━━━\u001b[0m\u001b[37m\u001b[0m \u001b[1m0s\u001b[0m 394us/step - accuracy: 0.8745 - loss: 0.4721\n",
      "Epoch 4/40\n",
      "\u001b[1m157/157\u001b[0m \u001b[32m━━━━━━━━━━━━━━━━━━━━\u001b[0m\u001b[37m\u001b[0m \u001b[1m0s\u001b[0m 382us/step - accuracy: 0.9003 - loss: 0.3583\n",
      "Epoch 5/40\n",
      "\u001b[1m157/157\u001b[0m \u001b[32m━━━━━━━━━━━━━━━━━━━━\u001b[0m\u001b[37m\u001b[0m \u001b[1m0s\u001b[0m 376us/step - accuracy: 0.9109 - loss: 0.3092\n",
      "Epoch 6/40\n",
      "\u001b[1m157/157\u001b[0m \u001b[32m━━━━━━━━━━━━━━━━━━━━\u001b[0m\u001b[37m\u001b[0m \u001b[1m0s\u001b[0m 383us/step - accuracy: 0.9270 - loss: 0.2593\n",
      "Epoch 7/40\n",
      "\u001b[1m157/157\u001b[0m \u001b[32m━━━━━━━━━━━━━━━━━━━━\u001b[0m\u001b[37m\u001b[0m \u001b[1m0s\u001b[0m 385us/step - accuracy: 0.9326 - loss: 0.2544\n",
      "Epoch 8/40\n",
      "\u001b[1m157/157\u001b[0m \u001b[32m━━━━━━━━━━━━━━━━━━━━\u001b[0m\u001b[37m\u001b[0m \u001b[1m0s\u001b[0m 379us/step - accuracy: 0.9390 - loss: 0.2335\n",
      "Epoch 9/40\n",
      "\u001b[1m157/157\u001b[0m \u001b[32m━━━━━━━━━━━━━━━━━━━━\u001b[0m\u001b[37m\u001b[0m \u001b[1m0s\u001b[0m 383us/step - accuracy: 0.9398 - loss: 0.2246\n",
      "Epoch 10/40\n",
      "\u001b[1m157/157\u001b[0m \u001b[32m━━━━━━━━━━━━━━━━━━━━\u001b[0m\u001b[37m\u001b[0m \u001b[1m0s\u001b[0m 390us/step - accuracy: 0.9415 - loss: 0.2023\n",
      "Epoch 11/40\n",
      "\u001b[1m157/157\u001b[0m \u001b[32m━━━━━━━━━━━━━━━━━━━━\u001b[0m\u001b[37m\u001b[0m \u001b[1m0s\u001b[0m 390us/step - accuracy: 0.9478 - loss: 0.1810\n",
      "Epoch 12/40\n",
      "\u001b[1m157/157\u001b[0m \u001b[32m━━━━━━━━━━━━━━━━━━━━\u001b[0m\u001b[37m\u001b[0m \u001b[1m0s\u001b[0m 395us/step - accuracy: 0.9524 - loss: 0.1751\n",
      "Epoch 13/40\n",
      "\u001b[1m157/157\u001b[0m \u001b[32m━━━━━━━━━━━━━━━━━━━━\u001b[0m\u001b[37m\u001b[0m \u001b[1m0s\u001b[0m 386us/step - accuracy: 0.9559 - loss: 0.1648\n",
      "Epoch 14/40\n",
      "\u001b[1m157/157\u001b[0m \u001b[32m━━━━━━━━━━━━━━━━━━━━\u001b[0m\u001b[37m\u001b[0m \u001b[1m0s\u001b[0m 380us/step - accuracy: 0.9595 - loss: 0.1520\n",
      "Epoch 15/40\n",
      "\u001b[1m157/157\u001b[0m \u001b[32m━━━━━━━━━━━━━━━━━━━━\u001b[0m\u001b[37m\u001b[0m \u001b[1m0s\u001b[0m 387us/step - accuracy: 0.9569 - loss: 0.1530\n",
      "Epoch 16/40\n",
      "\u001b[1m157/157\u001b[0m \u001b[32m━━━━━━━━━━━━━━━━━━━━\u001b[0m\u001b[37m\u001b[0m \u001b[1m0s\u001b[0m 379us/step - accuracy: 0.9670 - loss: 0.1397\n",
      "Epoch 17/40\n",
      "\u001b[1m157/157\u001b[0m \u001b[32m━━━━━━━━━━━━━━━━━━━━\u001b[0m\u001b[37m\u001b[0m \u001b[1m0s\u001b[0m 381us/step - accuracy: 0.9692 - loss: 0.1258\n",
      "Epoch 18/40\n",
      "\u001b[1m157/157\u001b[0m \u001b[32m━━━━━━━━━━━━━━━━━━━━\u001b[0m\u001b[37m\u001b[0m \u001b[1m0s\u001b[0m 387us/step - accuracy: 0.9694 - loss: 0.1210\n",
      "Epoch 19/40\n",
      "\u001b[1m157/157\u001b[0m \u001b[32m━━━━━━━━━━━━━━━━━━━━\u001b[0m\u001b[37m\u001b[0m \u001b[1m0s\u001b[0m 397us/step - accuracy: 0.9745 - loss: 0.1111\n",
      "Epoch 20/40\n",
      "\u001b[1m157/157\u001b[0m \u001b[32m━━━━━━━━━━━━━━━━━━━━\u001b[0m\u001b[37m\u001b[0m \u001b[1m0s\u001b[0m 410us/step - accuracy: 0.9714 - loss: 0.1090\n",
      "Epoch 21/40\n",
      "\u001b[1m157/157\u001b[0m \u001b[32m━━━━━━━━━━━━━━━━━━━━\u001b[0m\u001b[37m\u001b[0m \u001b[1m0s\u001b[0m 386us/step - accuracy: 0.9745 - loss: 0.1036\n",
      "Epoch 22/40\n",
      "\u001b[1m157/157\u001b[0m \u001b[32m━━━━━━━━━━━━━━━━━━━━\u001b[0m\u001b[37m\u001b[0m \u001b[1m0s\u001b[0m 379us/step - accuracy: 0.9798 - loss: 0.0873\n",
      "Epoch 23/40\n",
      "\u001b[1m157/157\u001b[0m \u001b[32m━━━━━━━━━━━━━━━━━━━━\u001b[0m\u001b[37m\u001b[0m \u001b[1m0s\u001b[0m 386us/step - accuracy: 0.9792 - loss: 0.0908\n",
      "Epoch 24/40\n",
      "\u001b[1m157/157\u001b[0m \u001b[32m━━━━━━━━━━━━━━━━━━━━\u001b[0m\u001b[37m\u001b[0m \u001b[1m0s\u001b[0m 381us/step - accuracy: 0.9789 - loss: 0.0823\n",
      "Epoch 25/40\n",
      "\u001b[1m157/157\u001b[0m \u001b[32m━━━━━━━━━━━━━━━━━━━━\u001b[0m\u001b[37m\u001b[0m \u001b[1m0s\u001b[0m 385us/step - accuracy: 0.9755 - loss: 0.0851\n",
      "Epoch 26/40\n",
      "\u001b[1m157/157\u001b[0m \u001b[32m━━━━━━━━━━━━━━━━━━━━\u001b[0m\u001b[37m\u001b[0m \u001b[1m0s\u001b[0m 391us/step - accuracy: 0.9803 - loss: 0.0811\n",
      "Epoch 27/40\n",
      "\u001b[1m157/157\u001b[0m \u001b[32m━━━━━━━━━━━━━━━━━━━━\u001b[0m\u001b[37m\u001b[0m \u001b[1m0s\u001b[0m 393us/step - accuracy: 0.9834 - loss: 0.0756\n",
      "Epoch 28/40\n",
      "\u001b[1m157/157\u001b[0m \u001b[32m━━━━━━━━━━━━━━━━━━━━\u001b[0m\u001b[37m\u001b[0m \u001b[1m0s\u001b[0m 394us/step - accuracy: 0.9848 - loss: 0.0697\n",
      "Epoch 29/40\n",
      "\u001b[1m157/157\u001b[0m \u001b[32m━━━━━━━━━━━━━━━━━━━━\u001b[0m\u001b[37m\u001b[0m \u001b[1m0s\u001b[0m 391us/step - accuracy: 0.9866 - loss: 0.0609\n",
      "Epoch 30/40\n",
      "\u001b[1m157/157\u001b[0m \u001b[32m━━━━━━━━━━━━━━━━━━━━\u001b[0m\u001b[37m\u001b[0m \u001b[1m0s\u001b[0m 405us/step - accuracy: 0.9878 - loss: 0.0561\n",
      "Epoch 31/40\n",
      "\u001b[1m157/157\u001b[0m \u001b[32m━━━━━━━━━━━━━━━━━━━━\u001b[0m\u001b[37m\u001b[0m \u001b[1m0s\u001b[0m 402us/step - accuracy: 0.9881 - loss: 0.0568\n",
      "Epoch 32/40\n",
      "\u001b[1m157/157\u001b[0m \u001b[32m━━━━━━━━━━━━━━━━━━━━\u001b[0m\u001b[37m\u001b[0m \u001b[1m0s\u001b[0m 403us/step - accuracy: 0.9862 - loss: 0.0566\n",
      "Epoch 33/40\n",
      "\u001b[1m157/157\u001b[0m \u001b[32m━━━━━━━━━━━━━━━━━━━━\u001b[0m\u001b[37m\u001b[0m \u001b[1m0s\u001b[0m 397us/step - accuracy: 0.9885 - loss: 0.0542\n",
      "Epoch 34/40\n",
      "\u001b[1m157/157\u001b[0m \u001b[32m━━━━━━━━━━━━━━━━━━━━\u001b[0m\u001b[37m\u001b[0m \u001b[1m0s\u001b[0m 725us/step - accuracy: 0.9909 - loss: 0.0473\n",
      "Epoch 35/40\n",
      "\u001b[1m157/157\u001b[0m \u001b[32m━━━━━━━━━━━━━━━━━━━━\u001b[0m\u001b[37m\u001b[0m \u001b[1m0s\u001b[0m 414us/step - accuracy: 0.9925 - loss: 0.0414\n",
      "Epoch 36/40\n",
      "\u001b[1m157/157\u001b[0m \u001b[32m━━━━━━━━━━━━━━━━━━━━\u001b[0m\u001b[37m\u001b[0m \u001b[1m0s\u001b[0m 415us/step - accuracy: 0.9910 - loss: 0.0441\n",
      "Epoch 37/40\n",
      "\u001b[1m157/157\u001b[0m \u001b[32m━━━━━━━━━━━━━━━━━━━━\u001b[0m\u001b[37m\u001b[0m \u001b[1m0s\u001b[0m 414us/step - accuracy: 0.9927 - loss: 0.0389\n",
      "Epoch 38/40\n",
      "\u001b[1m157/157\u001b[0m \u001b[32m━━━━━━━━━━━━━━━━━━━━\u001b[0m\u001b[37m\u001b[0m \u001b[1m0s\u001b[0m 411us/step - accuracy: 0.9916 - loss: 0.0354\n",
      "Epoch 39/40\n",
      "\u001b[1m157/157\u001b[0m \u001b[32m━━━━━━━━━━━━━━━━━━━━\u001b[0m\u001b[37m\u001b[0m \u001b[1m0s\u001b[0m 407us/step - accuracy: 0.9915 - loss: 0.0362\n",
      "Epoch 40/40\n",
      "\u001b[1m157/157\u001b[0m \u001b[32m━━━━━━━━━━━━━━━━━━━━\u001b[0m\u001b[37m\u001b[0m \u001b[1m0s\u001b[0m 403us/step - accuracy: 0.9964 - loss: 0.0310\n"
     ]
    }
   ],
   "source": [
    "history = model.fit(\n",
    "    X,y,\n",
    "    epochs=40\n",
    ")"
   ]
  },
  {
   "cell_type": "code",
   "execution_count": 53,
   "id": "403748a2-e307-4472-921e-afb80282e42e",
   "metadata": {},
   "outputs": [
    {
     "data": {
      "image/png": "[encoded data removed]",
      "text/plain": [
       "<Figure size 1000x500 with 1 Axes>"
      ]
     },
     "metadata": {},
     "output_type": "display_data"
    }
   ],
   "source": [
    "fig,ax = plt.subplots(figsize=(10,5))\n",
    "ax.plot(history.history['loss'], label='loss')\n",
    "ax.set_ylim([0, 1.5])\n",
    "ax.set_xlabel('Epoch')\n",
    "ax.set_ylabel('loss (cost)')\n",
    "ax.legend()\n",
    "plt.show()"
   ]
  },
  {
   "cell_type": "code",
   "execution_count": 54,
   "id": "f37a9419-dd0e-40ed-913f-22f14f9419fa",
   "metadata": {},
   "outputs": [
    {
     "name": "stdout",
     "output_type": "stream",
     "text": [
      "\u001b[1m1/1\u001b[0m \u001b[32m━━━━━━━━━━━━━━━━━━━━\u001b[0m\u001b[37m\u001b[0m \u001b[1m0s\u001b[0m 18ms/step\n"
     ]
    },
    {
     "data": {
      "text/plain": [
       "array([[ 16.936007 ,  -8.024837 ,   4.4569473,  -3.1349618, -13.377033 ,\n",
       "         -8.540525 , -10.271873 ,   1.3907887,  -6.614732 ,   6.771345 ]],\n",
       "      dtype=float32)"
      ]
     },
     "execution_count": 54,
     "metadata": {},
     "output_type": "execute_result"
    }
   ],
   "source": [
    "# Let's make a prediction\n",
    "prediction = model.predict(X[1].reshape(1, 400))\n",
    "prediction"
   ]
  },
  {
   "cell_type": "code",
   "execution_count": 55,
   "id": "e8eaa035-cfa2-4649-b858-737de56552fa",
   "metadata": {},
   "outputs": [
    {
     "name": "stdout",
     "output_type": "stream",
     "text": [
      "0\n"
     ]
    }
   ],
   "source": [
    "# Let's see which digit model is predicting:\n",
    "print(np.argmax(prediction))"
   ]
  },
  {
   "cell_type": "code",
   "execution_count": 56,
   "id": "e44151fe-d9c8-4be1-a9d0-2adf0eac2c1a",
   "metadata": {},
   "outputs": [
    {
     "data": {
      "text/plain": [
       "<tf.Tensor: shape=(1, 10), dtype=float32, numpy=\n",
       "array([[9.9995756e-01, 1.4441941e-11, 3.8053536e-06, 1.9198649e-09,\n",
       "        6.8421980e-14, 8.6231170e-12, 1.5266849e-12, 1.7732884e-07,\n",
       "        5.9159629e-11, 3.8505717e-05]], dtype=float32)>"
      ]
     },
     "execution_count": 56,
     "metadata": {},
     "output_type": "execute_result"
    }
   ],
   "source": [
    "# To see probabilities\n",
    "prediction_p = tf.nn.softmax(prediction)\n",
    "prediction_p"
   ]
  },
  {
   "cell_type": "code",
   "execution_count": 57,
   "id": "f79ce1e3-2216-4813-a31e-9c6aec730629",
   "metadata": {},
   "outputs": [
    {
     "data": {
      "text/plain": [
       "np.int64(0)"
      ]
     },
     "execution_count": 57,
     "metadata": {},
     "output_type": "execute_result"
    }
   ],
   "source": [
    "np.argmax(prediction_p)"
   ]
  },
  {
   "cell_type": "code",
   "execution_count": 58,
   "id": "3a571e4b-91c5-4ec1-a2c4-7b940fd504b7",
   "metadata": {},
   "outputs": [
    {
     "name": "stdout",
     "output_type": "stream",
     "text": [
      "\u001b[1m157/157\u001b[0m \u001b[32m━━━━━━━━━━━━━━━━━━━━\u001b[0m\u001b[37m\u001b[0m \u001b[1m0s\u001b[0m 218us/step\n"
     ]
    },
    {
     "data": {
      "text/plain": [
       "0.9964"
      ]
     },
     "execution_count": 58,
     "metadata": {},
     "output_type": "execute_result"
    }
   ],
   "source": [
    "from sklearn.metrics import accuracy_score\n",
    "\n",
    "yhat = model.predict(X)\n",
    "yhat = np.argmax(yhat, 1)\n",
    "accuracy = accuracy_score(y, yhat)\n",
    "accuracy"
   ]
  },
  {
   "cell_type": "code",
   "execution_count": null,
   "id": "ce774ce8-e143-45de-a3a5-ee981eda527e",
   "metadata": {},
   "outputs": [],
   "source": []
  }
 ],
 "metadata": {
  "kernelspec": {
   "display_name": "Python 3 (ipykernel)",
   "language": "python",
   "name": "python3"
  },
  "language_info": {
   "codemirror_mode": {
    "name": "ipython",
    "version": 3
   },
   "file_extension": ".py",
   "mimetype": "text/x-python",
   "name": "python",
   "nbconvert_exporter": "python",
   "pygments_lexer": "ipython3",
   "version": "3.12.8"
  }
 },
 "nbformat": 4,
 "nbformat_minor": 5
}
